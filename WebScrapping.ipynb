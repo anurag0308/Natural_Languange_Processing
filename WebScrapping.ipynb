{
 "cells": [
  {
   "cell_type": "code",
   "execution_count": 66,
   "metadata": {},
   "outputs": [],
   "source": [
    "import builtwith\n",
    "import whois\n",
    "import requests\n",
    "from bs4 import BeautifulSoup"
   ]
  },
  {
   "cell_type": "code",
   "execution_count": 67,
   "metadata": {},
   "outputs": [
    {
     "data": {
      "text/plain": [
       "{'web-servers': ['Apache'],\n",
       " 'advertising-networks': ['Google AdSense'],\n",
       " 'cache-tools': ['W3 Total Cache'],\n",
       " 'cms': ['WordPress'],\n",
       " 'programming-languages': ['PHP'],\n",
       " 'blogs': ['PHP', 'WordPress']}"
      ]
     },
     "execution_count": 67,
     "metadata": {},
     "output_type": "execute_result"
    }
   ],
   "source": [
    "builtwith.parse('http://authoraditiagarwal.com')\n"
   ]
  },
  {
   "cell_type": "code",
   "execution_count": 68,
   "metadata": {},
   "outputs": [
    {
     "name": "stdout",
     "output_type": "stream",
     "text": [
      "{\n",
      "  \"domain_name\": [\n",
      "    \"MICROSOFT.COM\",\n",
      "    \"microsoft.com\"\n",
      "  ],\n",
      "  \"registrar\": \"MarkMonitor, Inc.\",\n",
      "  \"whois_server\": \"whois.markmonitor.com\",\n",
      "  \"referral_url\": null,\n",
      "  \"updated_date\": [\n",
      "    \"2014-10-09 16:28:25\",\n",
      "    \"2014-10-15 04:00:12\"\n",
      "  ],\n",
      "  \"creation_date\": [\n",
      "    \"1991-05-02 04:00:00\",\n",
      "    \"1991-05-01 21:00:00\"\n",
      "  ],\n",
      "  \"expiration_date\": [\n",
      "    \"2021-05-03 04:00:00\",\n",
      "    \"2021-05-02 21:00:00\"\n",
      "  ],\n",
      "  \"name_servers\": [\n",
      "    \"NS1.MSFT.NET\",\n",
      "    \"NS2.MSFT.NET\",\n",
      "    \"NS3.MSFT.NET\",\n",
      "    \"NS4.MSFT.NET\",\n",
      "    \"ns4.msft.net\",\n",
      "    \"ns1.msft.net\",\n",
      "    \"ns2.msft.net\",\n",
      "    \"ns3.msft.net\"\n",
      "  ],\n",
      "  \"status\": [\n",
      "    \"clientDeleteProhibited https://icann.org/epp#clientDeleteProhibited\",\n",
      "    \"clientTransferProhibited https://icann.org/epp#clientTransferProhibited\",\n",
      "    \"clientUpdateProhibited https://icann.org/epp#clientUpdateProhibited\",\n",
      "    \"serverDeleteProhibited https://icann.org/epp#serverDeleteProhibited\",\n",
      "    \"serverTransferProhibited https://icann.org/epp#serverTransferProhibited\",\n",
      "    \"serverUpdateProhibited https://icann.org/epp#serverUpdateProhibited\",\n",
      "    \"clientUpdateProhibited (https://www.icann.org/epp#clientUpdateProhibited)\",\n",
      "    \"clientTransferProhibited (https://www.icann.org/epp#clientTransferProhibited)\",\n",
      "    \"clientDeleteProhibited (https://www.icann.org/epp#clientDeleteProhibited)\",\n",
      "    \"serverUpdateProhibited (https://www.icann.org/epp#serverUpdateProhibited)\",\n",
      "    \"serverTransferProhibited (https://www.icann.org/epp#serverTransferProhibited)\",\n",
      "    \"serverDeleteProhibited (https://www.icann.org/epp#serverDeleteProhibited)\"\n",
      "  ],\n",
      "  \"emails\": [\n",
      "    \"abusecomplaints@markmonitor.com\",\n",
      "    \"domains@microsoft.com\",\n",
      "    \"msnhst@microsoft.com\",\n",
      "    \"whoisrequest@markmonitor.com\"\n",
      "  ],\n",
      "  \"dnssec\": \"unsigned\",\n",
      "  \"name\": \"Domain Administrator\",\n",
      "  \"org\": \"Microsoft Corporation\",\n",
      "  \"address\": \"One Microsoft Way,\",\n",
      "  \"city\": \"Redmond\",\n",
      "  \"state\": \"WA\",\n",
      "  \"zipcode\": \"98052\",\n",
      "  \"country\": \"US\"\n",
      "}\n"
     ]
    }
   ],
   "source": [
    "print (whois.whois('www.microsoft.com'))"
   ]
  },
  {
   "cell_type": "code",
   "execution_count": 69,
   "metadata": {},
   "outputs": [
    {
     "name": "stdout",
     "output_type": "stream",
     "text": [
      "Learn and grow together\n"
     ]
    }
   ],
   "source": [
    "r = requests.get('https://authoraditiagarwal.com/')\n",
    "soup = BeautifulSoup(r.text,'lxml')\n",
    "print (soup.title.text)"
   ]
  },
  {
   "cell_type": "markdown",
   "metadata": {},
   "source": [
    "# SCRAPPING AMAZON DATA\n"
   ]
  },
  {
   "cell_type": "code",
   "execution_count": 70,
   "metadata": {},
   "outputs": [],
   "source": [
    "import time #to time the requests\n",
    "from multiprocessing import process, Queue ,Pool"
   ]
  },
  {
   "cell_type": "code",
   "execution_count": 71,
   "metadata": {},
   "outputs": [],
   "source": [
    "#if r.status_code != 200:"
   ]
  },
  {
   "cell_type": "code",
   "execution_count": 72,
   "metadata": {},
   "outputs": [],
   "source": [
    "proxies = {'http': 'http://195.22.121.13:443', 'https': 'http://195.22.121.13:443'} #Proxies which we will use\n"
   ]
  },
  {
   "cell_type": "markdown",
   "metadata": {},
   "source": [
    "# Hiding your source machine’s IP address #Getting past rate limits on the target site"
   ]
  },
  {
   "cell_type": "code",
   "execution_count": 73,
   "metadata": {},
   "outputs": [],
   "source": [
    "startTime = time.time()\n",
    "#qcount = 0 # the count in queue used to track the elements in queue\n",
    "products_name=[] # List to store name of the product\n",
    "product_prices=[] # List to store price of the product\n",
    "ratings=[] # List to store ratings of the product\n",
    "no_pages = 9 # no of pages to scrape in the website (provide it via arguments)\n"
   ]
  },
  {
   "cell_type": "markdown",
   "metadata": {},
   "source": [
    "# Python Requests does not force you to use request headers while sending requests but there are few smart websites that do not let you to get read anything important unless certain headers are not set in it.\n",
    "# One can find the user agent using : https://www.whoishostingthis.com/tools/user-agent/\n",
    "# To read morte about HTTP Headers : https://oxylabs.io/blog/5-key-http-headers-for-web-scraping"
   ]
  },
  {
   "cell_type": "code",
   "execution_count": 74,
   "metadata": {},
   "outputs": [],
   "source": [
    "def scrap_data (no_of_pages):\n",
    "    headers = {\"Mozilla/5.0 (X11; Linux x86_64) AppleWebKit/537.36 (KHTML, like Gecko) Chrome/75.0.3770.142 Safari/537.36\"\n",
    "              \"Accept-Encoding\":\"gzip, deflate\",\"Accept\":\"text/html,application/xhtml+xml,application/xml;q=0.9,*/*;q=0.8\",\n",
    "               \"DNT\":\"1\",\"Connection\":\"close\", \"Upgrade-Insecure-Requests\":\"1\"}\n",
    "    r = requests.get(\"https://www.amazon.com/s?k=laptops&page=\"+str(no_of_pages), headers=headers)#, timeout=5, proxy = proxies) #set time out, don't make these requests run till their last breath\n",
    "    content = r.content #content object using request.content (you could use request.text, content allows you to get binary data as well like images or pdfs)\n",
    "    soup = BeautifulSoup(content) #Beautifulsoup object out of this content, which will make it much easier to parse through this content object\n",
    "    for d in soup.findAll('div', attrs={'class':'sg-col-4-of-12 sg-col-8-of-16 sg-col-16-of-24 sg-col-12-of-20 sg-col-24-of-32 sg-col sg-col-28-of-36 sg-col-20-of-28'}):\n",
    "        name = d.find('span', attrs={'class':'a-size-medium a-color-base a-text-normal'})\n",
    "        price = d.find('span', attrs={'class':'a-offscreen'})\n",
    "        rating = d.find('span', attrs={'class':'a-icon-alt'})\n",
    "        all=[]\n",
    "        \n",
    "    if name is not None:\n",
    "        all.append(name.text)\n",
    "    else:\n",
    "        all.append(\"unknown-product\")\n",
    "                \n",
    "    if price is not None:\n",
    "        all.append(price.text)\n",
    "    else:\n",
    "        all.append('$0')\n",
    "        \n",
    "    if rating is not None:\n",
    "        all.append(rating.text)\n",
    "    else:\n",
    "        all.append('-1')\n",
    "        \n",
    "    return all\n",
    "                            \n",
    "        \n",
    "#df = pd.DataFrame({'Product Name':products, 'Price':prices, 'Ratings':ratings})\n",
    "#df.to_csv('products.csv', index=False, encoding='utf-8')\n"
   ]
  },
  {
   "cell_type": "code",
   "execution_count": 75,
   "metadata": {},
   "outputs": [
    {
     "data": {
      "text/plain": [
       "['2019 RCA Viking Pro 10.1\" Touchscreen 2-in-1 Tablet Laptop, Quad-Core Processor, 1GB RAM, 32GB SSD, WiFi, HDMI, Detachable Keyboard, Android 5.0 OS, Black',\n",
       " '$89.99',\n",
       " '3.6 out of 5 stars']"
      ]
     },
     "execution_count": 75,
     "metadata": {},
     "output_type": "execute_result"
    }
   ],
   "source": [
    "scrap_data(10)"
   ]
  },
  {
   "cell_type": "code",
   "execution_count": null,
   "metadata": {},
   "outputs": [],
   "source": []
  },
  {
   "cell_type": "code",
   "execution_count": null,
   "metadata": {},
   "outputs": [],
   "source": []
  }
 ],
 "metadata": {
  "kernelspec": {
   "display_name": "Python 3",
   "language": "python",
   "name": "python3"
  },
  "language_info": {
   "codemirror_mode": {
    "name": "ipython",
    "version": 3
   },
   "file_extension": ".py",
   "mimetype": "text/x-python",
   "name": "python",
   "nbconvert_exporter": "python",
   "pygments_lexer": "ipython3",
   "version": "3.7.3"
  }
 },
 "nbformat": 4,
 "nbformat_minor": 2
}
