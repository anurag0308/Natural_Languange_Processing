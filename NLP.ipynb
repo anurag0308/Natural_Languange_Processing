{
  "nbformat": 4,
  "nbformat_minor": 0,
  "metadata": {
    "colab": {
      "name": "NLP.ipynb",
      "provenance": [],
      "collapsed_sections": [],
      "authorship_tag": "ABX9TyO2nO1OOFN0urUiMPZu3p2b",
      "include_colab_link": true
    },
    "kernelspec": {
      "name": "python3",
      "display_name": "Python 3"
    }
  },
  "cells": [
    {
      "cell_type": "markdown",
      "metadata": {
        "id": "view-in-github",
        "colab_type": "text"
      },
      "source": [
        "<a href=\"https://colab.research.google.com/github/anurag0308/Web_Scrapping/blob/master/NLP.ipynb\" target=\"_parent\"><img src=\"https://colab.research.google.com/assets/colab-badge.svg\" alt=\"Open In Colab\"/></a>"
      ]
    },
    {
      "cell_type": "code",
      "metadata": {
        "id": "hnQ6SG5x85xd"
      },
      "source": [
        "import nltk"
      ],
      "execution_count": 1,
      "outputs": []
    },
    {
      "cell_type": "code",
      "metadata": {
        "id": "RcGTY-bMCcfA",
        "outputId": "1fc2be27-5312-4a4f-dde7-0ee18c3ea29e",
        "colab": {
          "base_uri": "https://localhost:8080/"
        }
      },
      "source": [
        "nltk.download('stopwords')"
      ],
      "execution_count": 2,
      "outputs": [
        {
          "output_type": "stream",
          "text": [
            "[nltk_data] Downloading package stopwords to /root/nltk_data...\n",
            "[nltk_data]   Unzipping corpora/stopwords.zip.\n"
          ],
          "name": "stdout"
        },
        {
          "output_type": "execute_result",
          "data": {
            "text/plain": [
              "True"
            ]
          },
          "metadata": {
            "tags": []
          },
          "execution_count": 2
        }
      ]
    },
    {
      "cell_type": "code",
      "metadata": {
        "id": "7qRPmC8jAlGd",
        "outputId": "d3360e4e-9ed8-45c1-d5b5-d86d964666a3",
        "colab": {
          "base_uri": "https://localhost:8080/"
        }
      },
      "source": [
        "nltk.download('punkt')\n",
        "  "
      ],
      "execution_count": 3,
      "outputs": [
        {
          "output_type": "stream",
          "text": [
            "[nltk_data] Downloading package punkt to /root/nltk_data...\n",
            "[nltk_data]   Unzipping tokenizers/punkt.zip.\n"
          ],
          "name": "stdout"
        },
        {
          "output_type": "execute_result",
          "data": {
            "text/plain": [
              "True"
            ]
          },
          "metadata": {
            "tags": []
          },
          "execution_count": 3
        }
      ]
    },
    {
      "cell_type": "code",
      "metadata": {
        "id": "CM4QwyU3GVl4",
        "outputId": "95f141e3-519a-4e05-c543-03159bb589d6",
        "colab": {
          "base_uri": "https://localhost:8080/"
        }
      },
      "source": [
        "nltk.download('wordnet')"
      ],
      "execution_count": 4,
      "outputs": [
        {
          "output_type": "stream",
          "text": [
            "[nltk_data] Downloading package wordnet to /root/nltk_data...\n",
            "[nltk_data]   Unzipping corpora/wordnet.zip.\n"
          ],
          "name": "stdout"
        },
        {
          "output_type": "execute_result",
          "data": {
            "text/plain": [
              "True"
            ]
          },
          "metadata": {
            "tags": []
          },
          "execution_count": 4
        }
      ]
    },
    {
      "cell_type": "code",
      "metadata": {
        "id": "MI7cqKl-9TWw"
      },
      "source": [
        "from nltk.tokenize import word_tokenize\n",
        "from nltk.tokenize import sent_tokenize"
      ],
      "execution_count": 5,
      "outputs": []
    },
    {
      "cell_type": "code",
      "metadata": {
        "id": "XJfWBikA-xMg"
      },
      "source": [
        "paragraph = \"Data preprocessing is an essential step in building a Machine Learning model and depending on how well the data has been preprocessed; the results are seen.\""
      ],
      "execution_count": 6,
      "outputs": []
    },
    {
      "cell_type": "code",
      "metadata": {
        "id": "KROGBZqg_9UO"
      },
      "source": [
        "words = word_tokenize(paragraph) #it includes special characters also."
      ],
      "execution_count": 7,
      "outputs": []
    },
    {
      "cell_type": "code",
      "metadata": {
        "id": "6nylN69lAVDv",
        "outputId": "9b9c7c37-966d-4016-fd59-6599ae0433bc",
        "colab": {
          "base_uri": "https://localhost:8080/"
        }
      },
      "source": [
        "print(words)"
      ],
      "execution_count": 8,
      "outputs": [
        {
          "output_type": "stream",
          "text": [
            "['Data', 'preprocessing', 'is', 'an', 'essential', 'step', 'in', 'building', 'a', 'Machine', 'Learning', 'model', 'and', 'depending', 'on', 'how', 'well', 'the', 'data', 'has', 'been', 'preprocessed', ';', 'the', 'results', 'are', 'seen', '.']\n"
          ],
          "name": "stdout"
        }
      ]
    },
    {
      "cell_type": "code",
      "metadata": {
        "id": "GugngsyLAsOk"
      },
      "source": [
        "sentences = sent_tokenize(paragraph)"
      ],
      "execution_count": 9,
      "outputs": []
    },
    {
      "cell_type": "code",
      "metadata": {
        "id": "EaNEWD4xBF9o",
        "outputId": "22336c9b-4016-4348-c662-18a7f81a0f0f",
        "colab": {
          "base_uri": "https://localhost:8080/"
        }
      },
      "source": [
        "print(sentences)"
      ],
      "execution_count": 10,
      "outputs": [
        {
          "output_type": "stream",
          "text": [
            "['Data preprocessing is an essential step in building a Machine Learning model and depending on how well the data has been preprocessed; the results are seen.']\n"
          ],
          "name": "stdout"
        }
      ]
    },
    {
      "cell_type": "code",
      "metadata": {
        "id": "MdaeoNx9Bkrp"
      },
      "source": [
        "#Stop_words_removal"
      ],
      "execution_count": 11,
      "outputs": []
    },
    {
      "cell_type": "code",
      "metadata": {
        "id": "rWyalYz-B7Bd"
      },
      "source": [
        "from nltk.corpus import stopwords "
      ],
      "execution_count": 12,
      "outputs": []
    },
    {
      "cell_type": "code",
      "metadata": {
        "id": "-38_PQRyB1Em"
      },
      "source": [
        "demo = \"Stop words removal: Stop words are very commonly used words (a, an, the, etc.) in the documents. These words do not really signify any importance as they do not help in distinguishing two documents.\""
      ],
      "execution_count": 13,
      "outputs": []
    },
    {
      "cell_type": "code",
      "metadata": {
        "id": "AyJ73RLrCSLH"
      },
      "source": [
        "stop_words = set(stopwords.words('english')) #create a list of unique stopwords of english language"
      ],
      "execution_count": 14,
      "outputs": []
    },
    {
      "cell_type": "code",
      "metadata": {
        "id": "hkIrN99ICXaj",
        "outputId": "8e9081be-3f34-49e7-d390-54af4ab612de",
        "colab": {
          "base_uri": "https://localhost:8080/"
        }
      },
      "source": [
        "word_tokens = word_tokenize(demo) #create_word_tokens_of_your_text\n",
        "len(word_tokens)"
      ],
      "execution_count": 15,
      "outputs": [
        {
          "output_type": "execute_result",
          "data": {
            "text/plain": [
              "43"
            ]
          },
          "metadata": {
            "tags": []
          },
          "execution_count": 15
        }
      ]
    },
    {
      "cell_type": "code",
      "metadata": {
        "id": "UYBlt2BXC7ir"
      },
      "source": [
        "stop_words_removed = [w for w in word_tokens if not w in stop_words]"
      ],
      "execution_count": 16,
      "outputs": []
    },
    {
      "cell_type": "code",
      "metadata": {
        "id": "-QURt5QsDO48",
        "outputId": "1152b455-7f4a-4ec6-b8aa-69a8617882bf",
        "colab": {
          "base_uri": "https://localhost:8080/"
        }
      },
      "source": [
        "len(stop_words_removed)"
      ],
      "execution_count": 17,
      "outputs": [
        {
          "output_type": "execute_result",
          "data": {
            "text/plain": [
              "28"
            ]
          },
          "metadata": {
            "tags": []
          },
          "execution_count": 17
        }
      ]
    },
    {
      "cell_type": "code",
      "metadata": {
        "id": "yIJKqjLODV0x",
        "outputId": "206776ee-b2ae-4c6a-c823-dd34a773f7d5",
        "colab": {
          "base_uri": "https://localhost:8080/"
        }
      },
      "source": [
        "stop_words_removed # things like 'are',a,an,the,in,do not,any,as,they are removed. These are stopwords."
      ],
      "execution_count": 18,
      "outputs": [
        {
          "output_type": "execute_result",
          "data": {
            "text/plain": [
              "['Stop',\n",
              " 'words',\n",
              " 'removal',\n",
              " ':',\n",
              " 'Stop',\n",
              " 'words',\n",
              " 'commonly',\n",
              " 'used',\n",
              " 'words',\n",
              " '(',\n",
              " ',',\n",
              " ',',\n",
              " ',',\n",
              " 'etc',\n",
              " '.',\n",
              " ')',\n",
              " 'documents',\n",
              " '.',\n",
              " 'These',\n",
              " 'words',\n",
              " 'really',\n",
              " 'signify',\n",
              " 'importance',\n",
              " 'help',\n",
              " 'distinguishing',\n",
              " 'two',\n",
              " 'documents',\n",
              " '.']"
            ]
          },
          "metadata": {
            "tags": []
          },
          "execution_count": 18
        }
      ]
    },
    {
      "cell_type": "code",
      "metadata": {
        "id": "rfwsnzXaD1K8"
      },
      "source": [
        "#Stemming: It is a process of transforming a word to its root form."
      ],
      "execution_count": 19,
      "outputs": []
    },
    {
      "cell_type": "code",
      "metadata": {
        "id": "V-H_0DSUEWMy"
      },
      "source": [
        "import nltk\n",
        "from nltk.stem import PorterStemmer\n",
        "ps = PorterStemmer()\n"
      ],
      "execution_count": 20,
      "outputs": []
    },
    {
      "cell_type": "code",
      "metadata": {
        "id": "LWtPtEvyEhLM"
      },
      "source": [
        "stemmed = [ps.stem(words) for words in stop_words_removed]"
      ],
      "execution_count": 21,
      "outputs": []
    },
    {
      "cell_type": "code",
      "metadata": {
        "id": "mvUdvdUuE8tM",
        "outputId": "b394957b-17d0-41ea-c062-e3e9dba7f6c0",
        "colab": {
          "base_uri": "https://localhost:8080/"
        }
      },
      "source": [
        "stemmed #after stemming many words have become meaningless this is disadvantage of stemming"
      ],
      "execution_count": 22,
      "outputs": [
        {
          "output_type": "execute_result",
          "data": {
            "text/plain": [
              "['stop',\n",
              " 'word',\n",
              " 'remov',\n",
              " ':',\n",
              " 'stop',\n",
              " 'word',\n",
              " 'commonli',\n",
              " 'use',\n",
              " 'word',\n",
              " '(',\n",
              " ',',\n",
              " ',',\n",
              " ',',\n",
              " 'etc',\n",
              " '.',\n",
              " ')',\n",
              " 'document',\n",
              " '.',\n",
              " 'these',\n",
              " 'word',\n",
              " 'realli',\n",
              " 'signifi',\n",
              " 'import',\n",
              " 'help',\n",
              " 'distinguish',\n",
              " 'two',\n",
              " 'document',\n",
              " '.']"
            ]
          },
          "metadata": {
            "tags": []
          },
          "execution_count": 22
        }
      ]
    },
    {
      "cell_type": "code",
      "metadata": {
        "id": "u9XXtCQtNuwr",
        "outputId": "037c81ca-6132-45ef-a77c-37261aa7a7b4",
        "colab": {
          "base_uri": "https://localhost:8080/",
          "height": 35
        }
      },
      "source": [
        "stemmed_sentence = ','.join(stemmed)\n",
        "stemmed_sentence"
      ],
      "execution_count": 23,
      "outputs": [
        {
          "output_type": "execute_result",
          "data": {
            "application/vnd.google.colaboratory.intrinsic+json": {
              "type": "string"
            },
            "text/plain": [
              "'stop,word,remov,:,stop,word,commonli,use,word,(,,,,,,,etc,.,),document,.,these,word,realli,signifi,import,help,distinguish,two,document,.'"
            ]
          },
          "metadata": {
            "tags": []
          },
          "execution_count": 23
        }
      ]
    },
    {
      "cell_type": "code",
      "metadata": {
        "id": "Yl1nBYssFAK0"
      },
      "source": [
        "#Lemmatization: Unlike stemming, lemmatization reduces the words to a word existing in the language.\n",
        "#Stemmer is easy to build than a lemmatizer as the latter requires deep linguistics knowledge in constructing dictionaries to look up the lemma of the word.\n",
        "#For lemmatization to resolve a word to its lemma, part of speech of the word is required. This helps in transforming the word into a proper root form.\n",
        "#However, for doing so, it requires extra computational linguistics power such as a part of speech tagger\n"
      ],
      "execution_count": 24,
      "outputs": []
    },
    {
      "cell_type": "markdown",
      "metadata": {
        "id": "7b569gndI95T"
      },
      "source": [
        "[Difference between stemming and lemmatization](https://blog.bitext.com/what-is-the-difference-between-stemming-and-lemmatization/)"
      ]
    },
    {
      "cell_type": "code",
      "metadata": {
        "id": "2Thm4kW5GDCM",
        "outputId": "30abcbfb-88af-442f-8a8d-3b682eb35c86",
        "colab": {
          "base_uri": "https://localhost:8080/"
        }
      },
      "source": [
        "import nltk\n",
        "from nltk.stem import WordNetLemmatizer \n",
        "\n",
        "lemmatizer = WordNetLemmatizer() #create a object of library \n",
        "\n",
        "print(lemmatizer.lemmatize(\"Machine\", pos='n'))\n",
        "# pos: parts of speech tag, verb\n",
        "print(lemmatizer.lemmatize(\"caring\", pos='v'))"
      ],
      "execution_count": 25,
      "outputs": [
        {
          "output_type": "stream",
          "text": [
            "Machine\n",
            "care\n"
          ],
          "name": "stdout"
        }
      ]
    },
    {
      "cell_type": "markdown",
      "metadata": {
        "id": "xBgGjEvSAwku"
      },
      "source": [
        "BAG OF WORDS:"
      ]
    },
    {
      "cell_type": "code",
      "metadata": {
        "id": "8lrdhk14A4xc"
      },
      "source": [
        "speech = \"\"\"In the year 1960, APJ Abdul Kalam’s graduation took place from Madras Institute of Technology. The association of Kalam took place with the Defence \n",
        "            Research & Development Service (DRDS). Furthermore, he joined as a scientist at the Aeronautical Development Establishment of the Defence Research \n",
        "            and Development Organisation. These were the beginning achievements of his prestigious career as a scientist. Big achievement for Kalam came when \n",
        "            he was the project director at ISRO of India‘s first-ever Satellite Launch Vehicle (SLV- III). This satellite was responsible for the deployment of \n",
        "            the Rohini satellite in 1980. Moreover, Kalam was highly influential in the development of Polar Satellite Launch Vehicle (PSLV) and SLV projects.\n",
        "            Both projects were successful. Bringing enhancement in the reputation of Kalam. Furthermore, the development of ballistic missiles was possible \n",
        "            because of the efforts of this man. Most noteworthy, Kalam earned the esteemed title of “The missile Man of India”. The Government of India became \n",
        "            aware of the brilliance of this man and made him the Chief Executive of the Integrated Guided Missiles Development Program (IGMDP). Furthermore, \n",
        "            this program was responsible for the research and development of Missiles. The achievements of this distinguished man didn’t stop there. More success \n",
        "            was to come in the form of Agni and Prithvi missiles. Once again, Kalam was influential in the developments of these missiles. It was during his \n",
        "            tenure in IGMDP that Kalam played an instrumental role in the developments of missiles like Agni and Prithvi. Moreover, Kamal was a key figure in \n",
        "            the Pokhran II nuclear test.\"\"\""
      ],
      "execution_count": 26,
      "outputs": []
    },
    {
      "cell_type": "code",
      "metadata": {
        "id": "wzpCzGjTCBv-"
      },
      "source": [
        "speech_sentences = sent_tokenize(speech)"
      ],
      "execution_count": 27,
      "outputs": []
    },
    {
      "cell_type": "code",
      "metadata": {
        "id": "Rv6-wrjAD71Z"
      },
      "source": [
        "import re #regular expressions"
      ],
      "execution_count": 28,
      "outputs": []
    },
    {
      "cell_type": "code",
      "metadata": {
        "id": "DUO361ahDl2-"
      },
      "source": [
        "corpus=[]\n",
        "for i in range(len(speech_sentences)):\n",
        "  review = re.sub('[^a-zA-Z]',' ',speech_sentences[i])\n",
        "  review = review.lower()\n",
        "  review = review.split() #to get a list so that we can do list comprehension\n",
        "  review = [ps.stem(w) for w in review if not w in stop_words]\n",
        "  review = ' '.join(review) #joining stemmed sentences again in review\n",
        "  corpus.append(review)\n"
      ],
      "execution_count": 29,
      "outputs": []
    },
    {
      "cell_type": "code",
      "metadata": {
        "id": "bbYYg_opCkl3",
        "outputId": "5832aaa0-ce8c-4689-975c-e7f966dcf79e",
        "colab": {
          "base_uri": "https://localhost:8080/"
        }
      },
      "source": [
        "corpus"
      ],
      "execution_count": 30,
      "outputs": [
        {
          "output_type": "execute_result",
          "data": {
            "text/plain": [
              "['year apj abdul kalam graduat took place madra institut technolog',\n",
              " 'associ kalam took place defenc research develop servic drd',\n",
              " 'furthermor join scientist aeronaut develop establish defenc research develop organis',\n",
              " 'begin achiev prestigi career scientist',\n",
              " 'big achiev kalam came project director isro india first ever satellit launch vehicl slv iii',\n",
              " 'satellit respons deploy rohini satellit',\n",
              " 'moreov kalam highli influenti develop polar satellit launch vehicl pslv slv project',\n",
              " 'project success',\n",
              " 'bring enhanc reput kalam',\n",
              " 'furthermor develop ballist missil possibl effort man',\n",
              " 'noteworthi kalam earn esteem titl missil man india',\n",
              " 'govern india becam awar brillianc man made chief execut integr guid missil develop program igmdp',\n",
              " 'furthermor program respons research develop missil',\n",
              " 'achiev distinguish man stop',\n",
              " 'success come form agni prithvi missil',\n",
              " 'kalam influenti develop missil',\n",
              " 'tenur igmdp kalam play instrument role develop missil like agni prithvi',\n",
              " 'moreov kamal key figur pokhran ii nuclear test']"
            ]
          },
          "metadata": {
            "tags": []
          },
          "execution_count": 30
        }
      ]
    },
    {
      "cell_type": "code",
      "metadata": {
        "id": "kdHQJ-_fbZ-d",
        "outputId": "f1634232-0a30-4aed-e477-eb325c7a6a56",
        "colab": {
          "base_uri": "https://localhost:8080/"
        }
      },
      "source": [
        "len(corpus)"
      ],
      "execution_count": 31,
      "outputs": [
        {
          "output_type": "execute_result",
          "data": {
            "text/plain": [
              "18"
            ]
          },
          "metadata": {
            "tags": []
          },
          "execution_count": 31
        }
      ]
    },
    {
      "cell_type": "code",
      "metadata": {
        "id": "61LTC7yvShGU"
      },
      "source": [
        "from sklearn.feature_extraction.text import CountVectorizer"
      ],
      "execution_count": 32,
      "outputs": []
    },
    {
      "cell_type": "code",
      "metadata": {
        "id": "a3INXHI-XQg-"
      },
      "source": [
        "cv = CountVectorizer()"
      ],
      "execution_count": 33,
      "outputs": []
    },
    {
      "cell_type": "code",
      "metadata": {
        "id": "HpaP6tIRXdfV"
      },
      "source": [
        "x = cv.fit_transform(corpus).toarray()"
      ],
      "execution_count": 34,
      "outputs": []
    },
    {
      "cell_type": "code",
      "metadata": {
        "id": "UJVLDombZCFl",
        "outputId": "a6743113-b8eb-4cb6-9ce6-c74ace58edc6",
        "colab": {
          "base_uri": "https://localhost:8080/"
        }
      },
      "source": [
        "x.shape"
      ],
      "execution_count": 35,
      "outputs": [
        {
          "output_type": "execute_result",
          "data": {
            "text/plain": [
              "(18, 89)"
            ]
          },
          "metadata": {
            "tags": []
          },
          "execution_count": 35
        }
      ]
    },
    {
      "cell_type": "markdown",
      "metadata": {
        "id": "_tWgrHxSDH0V"
      },
      "source": [
        "**TF-IDF**\n"
      ]
    },
    {
      "cell_type": "code",
      "metadata": {
        "id": "LNDppF-yDNB_"
      },
      "source": [
        "#Term frequency is the no. of times a term occurs in a sentence/ no. of tems/words in the sentence\n",
        "#document frequency is the no. of document/sentences containig the word/ no. of documents or snetences"
      ],
      "execution_count": 36,
      "outputs": []
    },
    {
      "cell_type": "code",
      "metadata": {
        "id": "lW_7McbiGAlJ"
      },
      "source": [
        ""
      ],
      "execution_count": 36,
      "outputs": []
    },
    {
      "cell_type": "code",
      "metadata": {
        "id": "fZ6oXhWNEQX4"
      },
      "source": [
        "corpus1=[]\n",
        "for i in range(len(speech_sentences)):\n",
        "  review1 = re.sub('[^a-zA-Z]',' ',speech_sentences[i])\n",
        "  review1 = review1.lower()\n",
        "  review1 = review1.split() #to get a list so that we can do list comprehension\n",
        "  review1 = [lemmatizer.lemmatize(w) for w in review1 if not w in stop_words]\n",
        "  review1 = ' '.join(review1) #joining stemmed sentences again in review\n",
        "  corpus1.append(review1)"
      ],
      "execution_count": 37,
      "outputs": []
    },
    {
      "cell_type": "code",
      "metadata": {
        "id": "DaORgfUAGX-0",
        "outputId": "80e203ec-dd1f-4d8b-c258-c9ecaef4d370",
        "colab": {
          "base_uri": "https://localhost:8080/"
        }
      },
      "source": [
        "corpus"
      ],
      "execution_count": 38,
      "outputs": [
        {
          "output_type": "execute_result",
          "data": {
            "text/plain": [
              "['year apj abdul kalam graduat took place madra institut technolog',\n",
              " 'associ kalam took place defenc research develop servic drd',\n",
              " 'furthermor join scientist aeronaut develop establish defenc research develop organis',\n",
              " 'begin achiev prestigi career scientist',\n",
              " 'big achiev kalam came project director isro india first ever satellit launch vehicl slv iii',\n",
              " 'satellit respons deploy rohini satellit',\n",
              " 'moreov kalam highli influenti develop polar satellit launch vehicl pslv slv project',\n",
              " 'project success',\n",
              " 'bring enhanc reput kalam',\n",
              " 'furthermor develop ballist missil possibl effort man',\n",
              " 'noteworthi kalam earn esteem titl missil man india',\n",
              " 'govern india becam awar brillianc man made chief execut integr guid missil develop program igmdp',\n",
              " 'furthermor program respons research develop missil',\n",
              " 'achiev distinguish man stop',\n",
              " 'success come form agni prithvi missil',\n",
              " 'kalam influenti develop missil',\n",
              " 'tenur igmdp kalam play instrument role develop missil like agni prithvi',\n",
              " 'moreov kamal key figur pokhran ii nuclear test']"
            ]
          },
          "metadata": {
            "tags": []
          },
          "execution_count": 38
        }
      ]
    },
    {
      "cell_type": "code",
      "metadata": {
        "id": "VTyEqtGgGZpz",
        "outputId": "f35f73dc-327b-449c-ef8f-d24810de4d3d",
        "colab": {
          "base_uri": "https://localhost:8080/"
        }
      },
      "source": [
        "corpus1"
      ],
      "execution_count": 39,
      "outputs": [
        {
          "output_type": "execute_result",
          "data": {
            "text/plain": [
              "['year apj abdul kalam graduation took place madras institute technology',\n",
              " 'association kalam took place defence research development service drds',\n",
              " 'furthermore joined scientist aeronautical development establishment defence research development organisation',\n",
              " 'beginning achievement prestigious career scientist',\n",
              " 'big achievement kalam came project director isro india first ever satellite launch vehicle slv iii',\n",
              " 'satellite responsible deployment rohini satellite',\n",
              " 'moreover kalam highly influential development polar satellite launch vehicle pslv slv project',\n",
              " 'project successful',\n",
              " 'bringing enhancement reputation kalam',\n",
              " 'furthermore development ballistic missile possible effort man',\n",
              " 'noteworthy kalam earned esteemed title missile man india',\n",
              " 'government india became aware brilliance man made chief executive integrated guided missile development program igmdp',\n",
              " 'furthermore program responsible research development missile',\n",
              " 'achievement distinguished man stop',\n",
              " 'success come form agni prithvi missile',\n",
              " 'kalam influential development missile',\n",
              " 'tenure igmdp kalam played instrumental role development missile like agni prithvi',\n",
              " 'moreover kamal key figure pokhran ii nuclear test']"
            ]
          },
          "metadata": {
            "tags": []
          },
          "execution_count": 39
        }
      ]
    },
    {
      "cell_type": "code",
      "metadata": {
        "id": "-vAkb-DYGcNw"
      },
      "source": [
        "from sklearn.feature_extraction.text import TfidfVectorizer\n",
        "tfidf = TfidfVectorizer()\n",
        "X1 = tfidf.fit_transform(corpus1).toarray()"
      ],
      "execution_count": 40,
      "outputs": []
    },
    {
      "cell_type": "code",
      "metadata": {
        "id": "vdSsjoyUH3W_",
        "outputId": "e45a832d-2464-46ba-add1-7c5a3a957f62",
        "colab": {
          "base_uri": "https://localhost:8080/"
        }
      },
      "source": [
        "X1"
      ],
      "execution_count": 41,
      "outputs": [
        {
          "output_type": "execute_result",
          "data": {
            "text/plain": [
              "array([[0.33669732, 0.        , 0.        , ..., 0.29470816, 0.        ,\n",
              "        0.33669732],\n",
              "       [0.        , 0.        , 0.        , ..., 0.34344823, 0.        ,\n",
              "        0.        ],\n",
              "       [0.        , 0.        , 0.35520986, ..., 0.        , 0.        ,\n",
              "        0.        ],\n",
              "       ...,\n",
              "       [0.        , 0.        , 0.        , ..., 0.        , 0.        ,\n",
              "        0.        ],\n",
              "       [0.        , 0.        , 0.        , ..., 0.        , 0.        ,\n",
              "        0.        ],\n",
              "       [0.        , 0.        , 0.        , ..., 0.        , 0.        ,\n",
              "        0.        ]])"
            ]
          },
          "metadata": {
            "tags": []
          },
          "execution_count": 41
        }
      ]
    },
    {
      "cell_type": "code",
      "metadata": {
        "id": "eR5bB0x4H50u",
        "outputId": "10e3af23-d2e6-4e9a-b665-84a99ab166ab",
        "colab": {
          "base_uri": "https://localhost:8080/"
        }
      },
      "source": [
        "X1.shape"
      ],
      "execution_count": 42,
      "outputs": [
        {
          "output_type": "execute_result",
          "data": {
            "text/plain": [
              "(18, 90)"
            ]
          },
          "metadata": {
            "tags": []
          },
          "execution_count": 42
        }
      ]
    },
    {
      "cell_type": "markdown",
      "metadata": {
        "id": "OkcFUw_rSC0N"
      },
      "source": [
        "[**Word Embeddings :** A Word Embedding format generally tries to map a word using a dictionary to a vector.](https://www.analyticsvidhya.com/blog/2017/06/word-embeddings-count-word2veec/)\n",
        "\n",
        "[**Meduim** Introduction to Word Embedding and Word2Vec](https://towardsdatascience.com/introduction-to-word-embedding-and-word2vec-652d0c2060fa)\n",
        "\n",
        "[**Jay Alammar:** The Illustrated Word2vec](http://jalammar.github.io/illustrated-word2vec/)"
      ]
    },
    {
      "cell_type": "code",
      "metadata": {
        "id": "_UgqAGnGxpnv",
        "outputId": "9df91688-c81b-480a-8ed9-3990d8a11351",
        "colab": {
          "base_uri": "https://localhost:8080/"
        }
      },
      "source": [
        "pip install beautifulsoup4\n"
      ],
      "execution_count": 48,
      "outputs": [
        {
          "output_type": "stream",
          "text": [
            "Requirement already satisfied: beautifulsoup4 in /usr/local/lib/python3.6/dist-packages (4.6.3)\n"
          ],
          "name": "stdout"
        }
      ]
    },
    {
      "cell_type": "code",
      "metadata": {
        "id": "J9NwTMTSyJIq",
        "outputId": "27d0fb41-152c-4a0b-df37-c6a64ca67f9a",
        "colab": {
          "base_uri": "https://localhost:8080/"
        }
      },
      "source": [
        "pip install lxml"
      ],
      "execution_count": 49,
      "outputs": [
        {
          "output_type": "stream",
          "text": [
            "Requirement already satisfied: lxml in /usr/local/lib/python3.6/dist-packages (4.2.6)\n"
          ],
          "name": "stdout"
        }
      ]
    },
    {
      "cell_type": "code",
      "metadata": {
        "id": "3G8BJrq3yJm1"
      },
      "source": [
        "import bs4 as bs \n",
        "import urllib.request\n",
        "import re\n",
        "scrapped_data = urllib.request.urlopen(\"https://en.wikipedia.org/wiki/Machine_learning\")"
      ],
      "execution_count": 62,
      "outputs": []
    },
    {
      "cell_type": "code",
      "metadata": {
        "id": "Um6nR4dbyJp6"
      },
      "source": [
        "article = scrapped_data.read()"
      ],
      "execution_count": 63,
      "outputs": []
    },
    {
      "cell_type": "code",
      "metadata": {
        "id": "kt_puGX-zRl4"
      },
      "source": [
        "parsed_article = bs.BeautifulSoup(article,'lxml') #'lxml' is to read HTML and XML data in python"
      ],
      "execution_count": 64,
      "outputs": []
    },
    {
      "cell_type": "code",
      "metadata": {
        "id": "U_jSwxq3zRjG"
      },
      "source": [
        "paragraphs = parsed_article.find_all('p') #p tag is for paragraph in html"
      ],
      "execution_count": 65,
      "outputs": []
    },
    {
      "cell_type": "code",
      "metadata": {
        "id": "52whEyMsznlS"
      },
      "source": [
        "article_text = \"\"\n"
      ],
      "execution_count": 67,
      "outputs": []
    },
    {
      "cell_type": "code",
      "metadata": {
        "id": "fJv3v9MMznpq"
      },
      "source": [
        "for p in paragraphs:\n",
        "  article_text += p.text"
      ],
      "execution_count": 68,
      "outputs": []
    },
    {
      "cell_type": "code",
      "metadata": {
        "id": "vkEQT4uP90Kn"
      },
      "source": [
        "article_text = article_text.lower()"
      ],
      "execution_count": 118,
      "outputs": []
    },
    {
      "cell_type": "code",
      "metadata": {
        "id": "SkzNMqlw96io"
      },
      "source": [
        "article_text = re.sub('[^a-zA-Z]',' ',article_text)\n",
        "article_text = re.sub(r'\\s+',' ',article_text)"
      ],
      "execution_count": 119,
      "outputs": []
    },
    {
      "cell_type": "code",
      "metadata": {
        "id": "gVkjq6It2jdl"
      },
      "source": [
        "article_sentences = sent_tokenize(article_text)\n",
        "\n"
      ],
      "execution_count": 120,
      "outputs": []
    },
    {
      "cell_type": "code",
      "metadata": {
        "id": "EYvp536095mg"
      },
      "source": [
        "article_words = [word_tokenize(sentences) for sentences in article_sentences]"
      ],
      "execution_count": 123,
      "outputs": []
    },
    {
      "cell_type": "code",
      "metadata": {
        "id": "iQDb6Y-_225S"
      },
      "source": [
        "for i in range(len(article_words)):\n",
        "  article_words[i] = [w for w in article_words[i] if not w in stop_words]\n"
      ],
      "execution_count": 125,
      "outputs": []
    },
    {
      "cell_type": "code",
      "metadata": {
        "id": "m-EhMTjn23ES"
      },
      "source": [
        "from gensim.models import Word2Vec"
      ],
      "execution_count": 127,
      "outputs": []
    },
    {
      "cell_type": "code",
      "metadata": {
        "id": "0o_WGsMq229w"
      },
      "source": [
        "w2v = Word2Vec(article_words,min_count=2)"
      ],
      "execution_count": 133,
      "outputs": []
    },
    {
      "cell_type": "code",
      "metadata": {
        "id": "3lIp5Vlv1NcZ"
      },
      "source": [
        "vocab = w2v.wv.vocab"
      ],
      "execution_count": 134,
      "outputs": []
    },
    {
      "cell_type": "code",
      "metadata": {
        "id": "aIrXA4q71Nf2",
        "outputId": "db6170ab-91c0-4282-8b60-8dde1d2ae0d4",
        "colab": {
          "base_uri": "https://localhost:8080/"
        }
      },
      "source": [
        "len(vocab)"
      ],
      "execution_count": 137,
      "outputs": [
        {
          "output_type": "execute_result",
          "data": {
            "text/plain": [
              "588"
            ]
          },
          "metadata": {
            "tags": []
          },
          "execution_count": 137
        }
      ]
    },
    {
      "cell_type": "code",
      "metadata": {
        "id": "bKblQ2qa1Nl1",
        "outputId": "1afec3a2-1689-468f-e7ea-b2ab17f785ff",
        "colab": {
          "base_uri": "https://localhost:8080/"
        }
      },
      "source": [
        "print(w2v.wv['machine'])"
      ],
      "execution_count": 140,
      "outputs": [
        {
          "output_type": "stream",
          "text": [
            "[-7.6857419e-04 -5.4542592e-04 -6.1941100e-04  3.4336261e-03\n",
            " -6.4113406e-03  3.8384793e-03  1.3174195e-04 -6.5967054e-03\n",
            "  7.9688313e-04  1.8513913e-03  7.5065729e-04 -2.9785451e-03\n",
            " -5.9786304e-03 -1.3197592e-03 -5.1291485e-04 -1.6552845e-03\n",
            "  2.8507796e-03 -8.4973918e-04  2.5239408e-03 -1.2264057e-03\n",
            "  5.0643901e-03  2.1713667e-03  3.6508611e-03  3.2676540e-05\n",
            " -5.0912709e-03 -6.1647217e-03  6.8627005e-03  6.3586957e-03\n",
            "  2.8053203e-03 -8.5201924e-04 -4.1230535e-03 -2.7150903e-03\n",
            " -4.0710806e-03 -3.4160388e-03  4.0625054e-03  1.4321262e-03\n",
            " -3.4802589e-03 -5.1956805e-03  6.8957368e-03 -4.6542455e-03\n",
            " -9.5743529e-04 -4.2422051e-03  4.5677242e-03  4.1719968e-03\n",
            " -3.0714285e-03 -2.7328099e-03 -1.5076450e-03 -4.0402273e-03\n",
            "  3.7794407e-03  3.0251741e-03 -2.3053202e-03 -2.9817796e-03\n",
            "  1.1959607e-03  5.4193456e-03  3.1605938e-03  1.8604588e-03\n",
            "  3.5052474e-03  2.8446136e-04  4.7381599e-03  4.9587847e-03\n",
            "  1.5029125e-03 -2.2321425e-03 -1.6145490e-03 -5.6282375e-03\n",
            "  3.7516281e-04 -2.7344658e-03 -3.8552796e-04  8.8704843e-03\n",
            "  3.6032917e-03  1.4901727e-03 -8.0491146e-03  6.6178368e-04\n",
            " -2.7225637e-03  5.9422934e-03  7.1618943e-03 -1.7085721e-03\n",
            " -1.4303882e-03  4.0740501e-03 -3.2292136e-03  2.4772502e-04\n",
            " -5.8047902e-03  3.9647878e-03 -1.3182482e-03 -5.1723896e-03\n",
            "  1.5632277e-04 -2.1613156e-03 -1.4712973e-03  4.6705124e-03\n",
            "  2.7124998e-03 -6.5744884e-04 -7.7919136e-03 -5.7798661e-03\n",
            "  9.7637286e-04 -4.5975791e-03  4.9867854e-03  4.2543709e-03\n",
            "  3.3833818e-03 -4.5738295e-03 -7.6373233e-03  4.8595975e-04]\n"
          ],
          "name": "stdout"
        }
      ]
    },
    {
      "cell_type": "code",
      "metadata": {
        "id": "wnLMvqES1NkU",
        "outputId": "9f7b120d-8843-4472-8106-cb3090d8f988",
        "colab": {
          "base_uri": "https://localhost:8080/"
        }
      },
      "source": [
        "similar_words = w2v.wv.most_similar('machine')"
      ],
      "execution_count": 142,
      "outputs": [
        {
          "output_type": "stream",
          "text": [
            "/usr/local/lib/python3.6/dist-packages/gensim/matutils.py:737: FutureWarning: Conversion of the second argument of issubdtype from `int` to `np.signedinteger` is deprecated. In future, it will be treated as `np.int64 == np.dtype(int).type`.\n",
            "  if np.issubdtype(vec.dtype, np.int):\n"
          ],
          "name": "stderr"
        }
      ]
    },
    {
      "cell_type": "code",
      "metadata": {
        "id": "aLe1Vi71ICmA",
        "outputId": "ec6e551f-58c3-4fff-ad8e-564b6707302a",
        "colab": {
          "base_uri": "https://localhost:8080/"
        }
      },
      "source": [
        "for x in similar_words:\n",
        "  print(x)"
      ],
      "execution_count": 144,
      "outputs": [
        {
          "output_type": "stream",
          "text": [
            "('learning', 0.4765019714832306)\n",
            "('example', 0.47021251916885376)\n",
            "('often', 0.4256896376609802)\n",
            "('also', 0.41702383756637573)\n",
            "('may', 0.400728702545166)\n",
            "('performance', 0.3884531855583191)\n",
            "('algorithms', 0.3853161931037903)\n",
            "('non', 0.3792549669742584)\n",
            "('said', 0.37637993693351746)\n",
            "('regression', 0.37627890706062317)\n"
          ],
          "name": "stdout"
        }
      ]
    },
    {
      "cell_type": "code",
      "metadata": {
        "id": "6sqpM2U9xnYH"
      },
      "source": [
        ""
      ],
      "execution_count": null,
      "outputs": []
    },
    {
      "cell_type": "code",
      "metadata": {
        "id": "2-qb6qPFwgDR"
      },
      "source": [
        ""
      ],
      "execution_count": null,
      "outputs": []
    }
  ]
}