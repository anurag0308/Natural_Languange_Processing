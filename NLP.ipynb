{
  "nbformat": 4,
  "nbformat_minor": 0,
  "metadata": {
    "colab": {
      "name": "NLP.ipynb",
      "provenance": [],
      "collapsed_sections": [],
      "authorship_tag": "ABX9TyOWCXlwNPM4daN5P+/7o+JG",
      "include_colab_link": true
    },
    "kernelspec": {
      "name": "python3",
      "display_name": "Python 3"
    }
  },
  "cells": [
    {
      "cell_type": "markdown",
      "metadata": {
        "id": "view-in-github",
        "colab_type": "text"
      },
      "source": [
        "<a href=\"https://colab.research.google.com/github/anurag0308/Web_Scrapping/blob/master/NLP.ipynb\" target=\"_parent\"><img src=\"https://colab.research.google.com/assets/colab-badge.svg\" alt=\"Open In Colab\"/></a>"
      ]
    },
    {
      "cell_type": "code",
      "metadata": {
        "id": "hnQ6SG5x85xd"
      },
      "source": [
        "import nltk"
      ],
      "execution_count": 1,
      "outputs": []
    },
    {
      "cell_type": "code",
      "metadata": {
        "id": "RcGTY-bMCcfA",
        "outputId": "1fc2be27-5312-4a4f-dde7-0ee18c3ea29e",
        "colab": {
          "base_uri": "https://localhost:8080/"
        }
      },
      "source": [
        "nltk.download('stopwords')"
      ],
      "execution_count": 2,
      "outputs": [
        {
          "output_type": "stream",
          "text": [
            "[nltk_data] Downloading package stopwords to /root/nltk_data...\n",
            "[nltk_data]   Unzipping corpora/stopwords.zip.\n"
          ],
          "name": "stdout"
        },
        {
          "output_type": "execute_result",
          "data": {
            "text/plain": [
              "True"
            ]
          },
          "metadata": {
            "tags": []
          },
          "execution_count": 2
        }
      ]
    },
    {
      "cell_type": "code",
      "metadata": {
        "id": "7qRPmC8jAlGd",
        "outputId": "d3360e4e-9ed8-45c1-d5b5-d86d964666a3",
        "colab": {
          "base_uri": "https://localhost:8080/"
        }
      },
      "source": [
        "nltk.download('punkt')\n",
        "  "
      ],
      "execution_count": 3,
      "outputs": [
        {
          "output_type": "stream",
          "text": [
            "[nltk_data] Downloading package punkt to /root/nltk_data...\n",
            "[nltk_data]   Unzipping tokenizers/punkt.zip.\n"
          ],
          "name": "stdout"
        },
        {
          "output_type": "execute_result",
          "data": {
            "text/plain": [
              "True"
            ]
          },
          "metadata": {
            "tags": []
          },
          "execution_count": 3
        }
      ]
    },
    {
      "cell_type": "code",
      "metadata": {
        "id": "CM4QwyU3GVl4",
        "outputId": "95f141e3-519a-4e05-c543-03159bb589d6",
        "colab": {
          "base_uri": "https://localhost:8080/"
        }
      },
      "source": [
        "nltk.download('wordnet')"
      ],
      "execution_count": 4,
      "outputs": [
        {
          "output_type": "stream",
          "text": [
            "[nltk_data] Downloading package wordnet to /root/nltk_data...\n",
            "[nltk_data]   Unzipping corpora/wordnet.zip.\n"
          ],
          "name": "stdout"
        },
        {
          "output_type": "execute_result",
          "data": {
            "text/plain": [
              "True"
            ]
          },
          "metadata": {
            "tags": []
          },
          "execution_count": 4
        }
      ]
    },
    {
      "cell_type": "code",
      "metadata": {
        "id": "MI7cqKl-9TWw"
      },
      "source": [
        "from nltk.tokenize import word_tokenize\n",
        "from nltk.tokenize import sent_tokenize"
      ],
      "execution_count": 5,
      "outputs": []
    },
    {
      "cell_type": "code",
      "metadata": {
        "id": "XJfWBikA-xMg"
      },
      "source": [
        "paragraph = \"Data preprocessing is an essential step in building a Machine Learning model and depending on how well the data has been preprocessed; the results are seen.\""
      ],
      "execution_count": 6,
      "outputs": []
    },
    {
      "cell_type": "code",
      "metadata": {
        "id": "KROGBZqg_9UO"
      },
      "source": [
        "words = word_tokenize(paragraph) #it includes special characters also."
      ],
      "execution_count": 7,
      "outputs": []
    },
    {
      "cell_type": "code",
      "metadata": {
        "id": "6nylN69lAVDv",
        "outputId": "9b9c7c37-966d-4016-fd59-6599ae0433bc",
        "colab": {
          "base_uri": "https://localhost:8080/"
        }
      },
      "source": [
        "print(words)"
      ],
      "execution_count": 8,
      "outputs": [
        {
          "output_type": "stream",
          "text": [
            "['Data', 'preprocessing', 'is', 'an', 'essential', 'step', 'in', 'building', 'a', 'Machine', 'Learning', 'model', 'and', 'depending', 'on', 'how', 'well', 'the', 'data', 'has', 'been', 'preprocessed', ';', 'the', 'results', 'are', 'seen', '.']\n"
          ],
          "name": "stdout"
        }
      ]
    },
    {
      "cell_type": "code",
      "metadata": {
        "id": "GugngsyLAsOk"
      },
      "source": [
        "sentences = sent_tokenize(paragraph)"
      ],
      "execution_count": 9,
      "outputs": []
    },
    {
      "cell_type": "code",
      "metadata": {
        "id": "EaNEWD4xBF9o",
        "outputId": "22336c9b-4016-4348-c662-18a7f81a0f0f",
        "colab": {
          "base_uri": "https://localhost:8080/"
        }
      },
      "source": [
        "print(sentences)"
      ],
      "execution_count": 10,
      "outputs": [
        {
          "output_type": "stream",
          "text": [
            "['Data preprocessing is an essential step in building a Machine Learning model and depending on how well the data has been preprocessed; the results are seen.']\n"
          ],
          "name": "stdout"
        }
      ]
    },
    {
      "cell_type": "code",
      "metadata": {
        "id": "MdaeoNx9Bkrp"
      },
      "source": [
        "#Stop_words_removal"
      ],
      "execution_count": 11,
      "outputs": []
    },
    {
      "cell_type": "code",
      "metadata": {
        "id": "rWyalYz-B7Bd"
      },
      "source": [
        "from nltk.corpus import stopwords "
      ],
      "execution_count": 12,
      "outputs": []
    },
    {
      "cell_type": "code",
      "metadata": {
        "id": "-38_PQRyB1Em"
      },
      "source": [
        "demo = \"Stop words removal: Stop words are very commonly used words (a, an, the, etc.) in the documents. These words do not really signify any importance as they do not help in distinguishing two documents.\""
      ],
      "execution_count": 13,
      "outputs": []
    },
    {
      "cell_type": "code",
      "metadata": {
        "id": "AyJ73RLrCSLH"
      },
      "source": [
        "stop_words = set(stopwords.words('english')) #create a list of unique stopwords of english language"
      ],
      "execution_count": 14,
      "outputs": []
    },
    {
      "cell_type": "code",
      "metadata": {
        "id": "hkIrN99ICXaj",
        "outputId": "8e9081be-3f34-49e7-d390-54af4ab612de",
        "colab": {
          "base_uri": "https://localhost:8080/"
        }
      },
      "source": [
        "word_tokens = word_tokenize(demo) #create_word_tokens_of_your_text\n",
        "len(word_tokens)"
      ],
      "execution_count": 15,
      "outputs": [
        {
          "output_type": "execute_result",
          "data": {
            "text/plain": [
              "43"
            ]
          },
          "metadata": {
            "tags": []
          },
          "execution_count": 15
        }
      ]
    },
    {
      "cell_type": "code",
      "metadata": {
        "id": "UYBlt2BXC7ir"
      },
      "source": [
        "stop_words_removed = [w for w in word_tokens if not w in stop_words]"
      ],
      "execution_count": 16,
      "outputs": []
    },
    {
      "cell_type": "code",
      "metadata": {
        "id": "-QURt5QsDO48",
        "outputId": "1152b455-7f4a-4ec6-b8aa-69a8617882bf",
        "colab": {
          "base_uri": "https://localhost:8080/"
        }
      },
      "source": [
        "len(stop_words_removed)"
      ],
      "execution_count": 17,
      "outputs": [
        {
          "output_type": "execute_result",
          "data": {
            "text/plain": [
              "28"
            ]
          },
          "metadata": {
            "tags": []
          },
          "execution_count": 17
        }
      ]
    },
    {
      "cell_type": "code",
      "metadata": {
        "id": "yIJKqjLODV0x",
        "outputId": "206776ee-b2ae-4c6a-c823-dd34a773f7d5",
        "colab": {
          "base_uri": "https://localhost:8080/"
        }
      },
      "source": [
        "stop_words_removed # things like 'are',a,an,the,in,do not,any,as,they are removed. These are stopwords."
      ],
      "execution_count": 18,
      "outputs": [
        {
          "output_type": "execute_result",
          "data": {
            "text/plain": [
              "['Stop',\n",
              " 'words',\n",
              " 'removal',\n",
              " ':',\n",
              " 'Stop',\n",
              " 'words',\n",
              " 'commonly',\n",
              " 'used',\n",
              " 'words',\n",
              " '(',\n",
              " ',',\n",
              " ',',\n",
              " ',',\n",
              " 'etc',\n",
              " '.',\n",
              " ')',\n",
              " 'documents',\n",
              " '.',\n",
              " 'These',\n",
              " 'words',\n",
              " 'really',\n",
              " 'signify',\n",
              " 'importance',\n",
              " 'help',\n",
              " 'distinguishing',\n",
              " 'two',\n",
              " 'documents',\n",
              " '.']"
            ]
          },
          "metadata": {
            "tags": []
          },
          "execution_count": 18
        }
      ]
    },
    {
      "cell_type": "code",
      "metadata": {
        "id": "rfwsnzXaD1K8"
      },
      "source": [
        "#Stemming: It is a process of transforming a word to its root form."
      ],
      "execution_count": 19,
      "outputs": []
    },
    {
      "cell_type": "code",
      "metadata": {
        "id": "V-H_0DSUEWMy"
      },
      "source": [
        "import nltk\n",
        "from nltk.stem import PorterStemmer\n",
        "ps = PorterStemmer()\n"
      ],
      "execution_count": 20,
      "outputs": []
    },
    {
      "cell_type": "code",
      "metadata": {
        "id": "LWtPtEvyEhLM"
      },
      "source": [
        "stemmed = [ps.stem(words) for words in stop_words_removed]"
      ],
      "execution_count": 21,
      "outputs": []
    },
    {
      "cell_type": "code",
      "metadata": {
        "id": "mvUdvdUuE8tM",
        "outputId": "b394957b-17d0-41ea-c062-e3e9dba7f6c0",
        "colab": {
          "base_uri": "https://localhost:8080/"
        }
      },
      "source": [
        "stemmed #after stemming many words have become meaningless this is disadvantage of stemming"
      ],
      "execution_count": 22,
      "outputs": [
        {
          "output_type": "execute_result",
          "data": {
            "text/plain": [
              "['stop',\n",
              " 'word',\n",
              " 'remov',\n",
              " ':',\n",
              " 'stop',\n",
              " 'word',\n",
              " 'commonli',\n",
              " 'use',\n",
              " 'word',\n",
              " '(',\n",
              " ',',\n",
              " ',',\n",
              " ',',\n",
              " 'etc',\n",
              " '.',\n",
              " ')',\n",
              " 'document',\n",
              " '.',\n",
              " 'these',\n",
              " 'word',\n",
              " 'realli',\n",
              " 'signifi',\n",
              " 'import',\n",
              " 'help',\n",
              " 'distinguish',\n",
              " 'two',\n",
              " 'document',\n",
              " '.']"
            ]
          },
          "metadata": {
            "tags": []
          },
          "execution_count": 22
        }
      ]
    },
    {
      "cell_type": "code",
      "metadata": {
        "id": "u9XXtCQtNuwr",
        "outputId": "037c81ca-6132-45ef-a77c-37261aa7a7b4",
        "colab": {
          "base_uri": "https://localhost:8080/",
          "height": 35
        }
      },
      "source": [
        "stemmed_sentence = ','.join(stemmed)\n",
        "stemmed_sentence"
      ],
      "execution_count": 23,
      "outputs": [
        {
          "output_type": "execute_result",
          "data": {
            "application/vnd.google.colaboratory.intrinsic+json": {
              "type": "string"
            },
            "text/plain": [
              "'stop,word,remov,:,stop,word,commonli,use,word,(,,,,,,,etc,.,),document,.,these,word,realli,signifi,import,help,distinguish,two,document,.'"
            ]
          },
          "metadata": {
            "tags": []
          },
          "execution_count": 23
        }
      ]
    },
    {
      "cell_type": "code",
      "metadata": {
        "id": "Yl1nBYssFAK0"
      },
      "source": [
        "#Lemmatization: Unlike stemming, lemmatization reduces the words to a word existing in the language.\n",
        "#Stemmer is easy to build than a lemmatizer as the latter requires deep linguistics knowledge in constructing dictionaries to look up the lemma of the word.\n",
        "#For lemmatization to resolve a word to its lemma, part of speech of the word is required. This helps in transforming the word into a proper root form.\n",
        "#However, for doing so, it requires extra computational linguistics power such as a part of speech tagger\n"
      ],
      "execution_count": 24,
      "outputs": []
    },
    {
      "cell_type": "markdown",
      "metadata": {
        "id": "7b569gndI95T"
      },
      "source": [
        "[Difference between stemming and lemmatization](https://blog.bitext.com/what-is-the-difference-between-stemming-and-lemmatization/)"
      ]
    },
    {
      "cell_type": "code",
      "metadata": {
        "id": "2Thm4kW5GDCM",
        "outputId": "30abcbfb-88af-442f-8a8d-3b682eb35c86",
        "colab": {
          "base_uri": "https://localhost:8080/"
        }
      },
      "source": [
        "import nltk\n",
        "from nltk.stem import WordNetLemmatizer \n",
        "\n",
        "lemmatizer = WordNetLemmatizer() #create a object of library \n",
        "\n",
        "print(lemmatizer.lemmatize(\"Machine\", pos='n'))\n",
        "# pos: parts of speech tag, verb\n",
        "print(lemmatizer.lemmatize(\"caring\", pos='v'))"
      ],
      "execution_count": 25,
      "outputs": [
        {
          "output_type": "stream",
          "text": [
            "Machine\n",
            "care\n"
          ],
          "name": "stdout"
        }
      ]
    },
    {
      "cell_type": "markdown",
      "metadata": {
        "id": "xBgGjEvSAwku"
      },
      "source": [
        "BAG OF WORDS:"
      ]
    },
    {
      "cell_type": "code",
      "metadata": {
        "id": "8lrdhk14A4xc"
      },
      "source": [
        "speech = \"\"\"In the year 1960, APJ Abdul Kalam’s graduation took place from Madras Institute of Technology. The association of Kalam took place with the Defence \n",
        "            Research & Development Service (DRDS). Furthermore, he joined as a scientist at the Aeronautical Development Establishment of the Defence Research \n",
        "            and Development Organisation. These were the beginning achievements of his prestigious career as a scientist. Big achievement for Kalam came when \n",
        "            he was the project director at ISRO of India‘s first-ever Satellite Launch Vehicle (SLV- III). This satellite was responsible for the deployment of \n",
        "            the Rohini satellite in 1980. Moreover, Kalam was highly influential in the development of Polar Satellite Launch Vehicle (PSLV) and SLV projects.\n",
        "            Both projects were successful. Bringing enhancement in the reputation of Kalam. Furthermore, the development of ballistic missiles was possible \n",
        "            because of the efforts of this man. Most noteworthy, Kalam earned the esteemed title of “The missile Man of India”. The Government of India became \n",
        "            aware of the brilliance of this man and made him the Chief Executive of the Integrated Guided Missiles Development Program (IGMDP). Furthermore, \n",
        "            this program was responsible for the research and development of Missiles. The achievements of this distinguished man didn’t stop there. More success \n",
        "            was to come in the form of Agni and Prithvi missiles. Once again, Kalam was influential in the developments of these missiles. It was during his \n",
        "            tenure in IGMDP that Kalam played an instrumental role in the developments of missiles like Agni and Prithvi. Moreover, Kamal was a key figure in \n",
        "            the Pokhran II nuclear test.\"\"\""
      ],
      "execution_count": 26,
      "outputs": []
    },
    {
      "cell_type": "code",
      "metadata": {
        "id": "wzpCzGjTCBv-"
      },
      "source": [
        "speech_sentences = sent_tokenize(speech)"
      ],
      "execution_count": 27,
      "outputs": []
    },
    {
      "cell_type": "code",
      "metadata": {
        "id": "Rv6-wrjAD71Z"
      },
      "source": [
        "import re #regular expressions"
      ],
      "execution_count": 28,
      "outputs": []
    },
    {
      "cell_type": "code",
      "metadata": {
        "id": "DUO361ahDl2-"
      },
      "source": [
        "corpus=[]\n",
        "for i in range(len(speech_sentences)):\n",
        "  review = re.sub('[^a-zA-Z]',' ',speech_sentences[i])\n",
        "  review = review.lower()\n",
        "  review = review.split() #to get a list so that we can do list comprehension\n",
        "  review = [ps.stem(w) for w in review if not w in stop_words]\n",
        "  review = ' '.join(review) #joining stemmed sentences again in review\n",
        "  corpus.append(review)\n"
      ],
      "execution_count": 29,
      "outputs": []
    },
    {
      "cell_type": "code",
      "metadata": {
        "id": "bbYYg_opCkl3",
        "outputId": "5832aaa0-ce8c-4689-975c-e7f966dcf79e",
        "colab": {
          "base_uri": "https://localhost:8080/"
        }
      },
      "source": [
        "corpus"
      ],
      "execution_count": 30,
      "outputs": [
        {
          "output_type": "execute_result",
          "data": {
            "text/plain": [
              "['year apj abdul kalam graduat took place madra institut technolog',\n",
              " 'associ kalam took place defenc research develop servic drd',\n",
              " 'furthermor join scientist aeronaut develop establish defenc research develop organis',\n",
              " 'begin achiev prestigi career scientist',\n",
              " 'big achiev kalam came project director isro india first ever satellit launch vehicl slv iii',\n",
              " 'satellit respons deploy rohini satellit',\n",
              " 'moreov kalam highli influenti develop polar satellit launch vehicl pslv slv project',\n",
              " 'project success',\n",
              " 'bring enhanc reput kalam',\n",
              " 'furthermor develop ballist missil possibl effort man',\n",
              " 'noteworthi kalam earn esteem titl missil man india',\n",
              " 'govern india becam awar brillianc man made chief execut integr guid missil develop program igmdp',\n",
              " 'furthermor program respons research develop missil',\n",
              " 'achiev distinguish man stop',\n",
              " 'success come form agni prithvi missil',\n",
              " 'kalam influenti develop missil',\n",
              " 'tenur igmdp kalam play instrument role develop missil like agni prithvi',\n",
              " 'moreov kamal key figur pokhran ii nuclear test']"
            ]
          },
          "metadata": {
            "tags": []
          },
          "execution_count": 30
        }
      ]
    },
    {
      "cell_type": "code",
      "metadata": {
        "id": "kdHQJ-_fbZ-d",
        "outputId": "f1634232-0a30-4aed-e477-eb325c7a6a56",
        "colab": {
          "base_uri": "https://localhost:8080/"
        }
      },
      "source": [
        "len(corpus)"
      ],
      "execution_count": 31,
      "outputs": [
        {
          "output_type": "execute_result",
          "data": {
            "text/plain": [
              "18"
            ]
          },
          "metadata": {
            "tags": []
          },
          "execution_count": 31
        }
      ]
    },
    {
      "cell_type": "code",
      "metadata": {
        "id": "61LTC7yvShGU"
      },
      "source": [
        "from sklearn.feature_extraction.text import CountVectorizer"
      ],
      "execution_count": 32,
      "outputs": []
    },
    {
      "cell_type": "code",
      "metadata": {
        "id": "a3INXHI-XQg-"
      },
      "source": [
        "cv = CountVectorizer()"
      ],
      "execution_count": 33,
      "outputs": []
    },
    {
      "cell_type": "code",
      "metadata": {
        "id": "HpaP6tIRXdfV"
      },
      "source": [
        "x = cv.fit_transform(corpus).toarray()"
      ],
      "execution_count": 34,
      "outputs": []
    },
    {
      "cell_type": "code",
      "metadata": {
        "id": "UJVLDombZCFl",
        "outputId": "a6743113-b8eb-4cb6-9ce6-c74ace58edc6",
        "colab": {
          "base_uri": "https://localhost:8080/"
        }
      },
      "source": [
        "x.shape"
      ],
      "execution_count": 35,
      "outputs": [
        {
          "output_type": "execute_result",
          "data": {
            "text/plain": [
              "(18, 89)"
            ]
          },
          "metadata": {
            "tags": []
          },
          "execution_count": 35
        }
      ]
    },
    {
      "cell_type": "markdown",
      "metadata": {
        "id": "_tWgrHxSDH0V"
      },
      "source": [
        "**TF-IDF**\n"
      ]
    },
    {
      "cell_type": "code",
      "metadata": {
        "id": "LNDppF-yDNB_"
      },
      "source": [
        "#Term frequency is the no. of times a term occurs in a sentence/ no. of tems/words in the sentence\n",
        "#document frequency is the no. of document/sentences containig the word/ no. of documents or snetences"
      ],
      "execution_count": 36,
      "outputs": []
    },
    {
      "cell_type": "code",
      "metadata": {
        "id": "lW_7McbiGAlJ"
      },
      "source": [
        ""
      ],
      "execution_count": 36,
      "outputs": []
    },
    {
      "cell_type": "code",
      "metadata": {
        "id": "fZ6oXhWNEQX4"
      },
      "source": [
        "corpus1=[]\n",
        "for i in range(len(speech_sentences)):\n",
        "  review1 = re.sub('[^a-zA-Z]',' ',speech_sentences[i])\n",
        "  review1 = review1.lower()\n",
        "  review1 = review1.split() #to get a list so that we can do list comprehension\n",
        "  review1 = [lemmatizer.lemmatize(w) for w in review1 if not w in stop_words]\n",
        "  review1 = ' '.join(review1) #joining stemmed sentences again in review\n",
        "  corpus1.append(review1)"
      ],
      "execution_count": 37,
      "outputs": []
    },
    {
      "cell_type": "code",
      "metadata": {
        "id": "DaORgfUAGX-0",
        "outputId": "80e203ec-dd1f-4d8b-c258-c9ecaef4d370",
        "colab": {
          "base_uri": "https://localhost:8080/"
        }
      },
      "source": [
        "corpus"
      ],
      "execution_count": 38,
      "outputs": [
        {
          "output_type": "execute_result",
          "data": {
            "text/plain": [
              "['year apj abdul kalam graduat took place madra institut technolog',\n",
              " 'associ kalam took place defenc research develop servic drd',\n",
              " 'furthermor join scientist aeronaut develop establish defenc research develop organis',\n",
              " 'begin achiev prestigi career scientist',\n",
              " 'big achiev kalam came project director isro india first ever satellit launch vehicl slv iii',\n",
              " 'satellit respons deploy rohini satellit',\n",
              " 'moreov kalam highli influenti develop polar satellit launch vehicl pslv slv project',\n",
              " 'project success',\n",
              " 'bring enhanc reput kalam',\n",
              " 'furthermor develop ballist missil possibl effort man',\n",
              " 'noteworthi kalam earn esteem titl missil man india',\n",
              " 'govern india becam awar brillianc man made chief execut integr guid missil develop program igmdp',\n",
              " 'furthermor program respons research develop missil',\n",
              " 'achiev distinguish man stop',\n",
              " 'success come form agni prithvi missil',\n",
              " 'kalam influenti develop missil',\n",
              " 'tenur igmdp kalam play instrument role develop missil like agni prithvi',\n",
              " 'moreov kamal key figur pokhran ii nuclear test']"
            ]
          },
          "metadata": {
            "tags": []
          },
          "execution_count": 38
        }
      ]
    },
    {
      "cell_type": "code",
      "metadata": {
        "id": "VTyEqtGgGZpz",
        "outputId": "f35f73dc-327b-449c-ef8f-d24810de4d3d",
        "colab": {
          "base_uri": "https://localhost:8080/"
        }
      },
      "source": [
        "corpus1"
      ],
      "execution_count": 39,
      "outputs": [
        {
          "output_type": "execute_result",
          "data": {
            "text/plain": [
              "['year apj abdul kalam graduation took place madras institute technology',\n",
              " 'association kalam took place defence research development service drds',\n",
              " 'furthermore joined scientist aeronautical development establishment defence research development organisation',\n",
              " 'beginning achievement prestigious career scientist',\n",
              " 'big achievement kalam came project director isro india first ever satellite launch vehicle slv iii',\n",
              " 'satellite responsible deployment rohini satellite',\n",
              " 'moreover kalam highly influential development polar satellite launch vehicle pslv slv project',\n",
              " 'project successful',\n",
              " 'bringing enhancement reputation kalam',\n",
              " 'furthermore development ballistic missile possible effort man',\n",
              " 'noteworthy kalam earned esteemed title missile man india',\n",
              " 'government india became aware brilliance man made chief executive integrated guided missile development program igmdp',\n",
              " 'furthermore program responsible research development missile',\n",
              " 'achievement distinguished man stop',\n",
              " 'success come form agni prithvi missile',\n",
              " 'kalam influential development missile',\n",
              " 'tenure igmdp kalam played instrumental role development missile like agni prithvi',\n",
              " 'moreover kamal key figure pokhran ii nuclear test']"
            ]
          },
          "metadata": {
            "tags": []
          },
          "execution_count": 39
        }
      ]
    },
    {
      "cell_type": "code",
      "metadata": {
        "id": "-vAkb-DYGcNw"
      },
      "source": [
        "from sklearn.feature_extraction.text import TfidfVectorizer\n",
        "tfidf = TfidfVectorizer()\n",
        "X1 = tfidf.fit_transform(corpus1).toarray()"
      ],
      "execution_count": 40,
      "outputs": []
    },
    {
      "cell_type": "code",
      "metadata": {
        "id": "vdSsjoyUH3W_",
        "outputId": "e45a832d-2464-46ba-add1-7c5a3a957f62",
        "colab": {
          "base_uri": "https://localhost:8080/"
        }
      },
      "source": [
        "X1"
      ],
      "execution_count": 41,
      "outputs": [
        {
          "output_type": "execute_result",
          "data": {
            "text/plain": [
              "array([[0.33669732, 0.        , 0.        , ..., 0.29470816, 0.        ,\n",
              "        0.33669732],\n",
              "       [0.        , 0.        , 0.        , ..., 0.34344823, 0.        ,\n",
              "        0.        ],\n",
              "       [0.        , 0.        , 0.35520986, ..., 0.        , 0.        ,\n",
              "        0.        ],\n",
              "       ...,\n",
              "       [0.        , 0.        , 0.        , ..., 0.        , 0.        ,\n",
              "        0.        ],\n",
              "       [0.        , 0.        , 0.        , ..., 0.        , 0.        ,\n",
              "        0.        ],\n",
              "       [0.        , 0.        , 0.        , ..., 0.        , 0.        ,\n",
              "        0.        ]])"
            ]
          },
          "metadata": {
            "tags": []
          },
          "execution_count": 41
        }
      ]
    },
    {
      "cell_type": "code",
      "metadata": {
        "id": "eR5bB0x4H50u",
        "outputId": "10e3af23-d2e6-4e9a-b665-84a99ab166ab",
        "colab": {
          "base_uri": "https://localhost:8080/"
        }
      },
      "source": [
        "X1.shape"
      ],
      "execution_count": 42,
      "outputs": [
        {
          "output_type": "execute_result",
          "data": {
            "text/plain": [
              "(18, 90)"
            ]
          },
          "metadata": {
            "tags": []
          },
          "execution_count": 42
        }
      ]
    },
    {
      "cell_type": "markdown",
      "metadata": {
        "id": "OkcFUw_rSC0N"
      },
      "source": [
        "[**Word Embeddings :** A Word Embedding format generally tries to map a word using a dictionary to a vector.](https://www.analyticsvidhya.com/blog/2017/06/word-embeddings-count-word2veec/)\n",
        "\n",
        "[**Meduim** Introduction to Word Embedding and Word2Vec](https://towardsdatascience.com/introduction-to-word-embedding-and-word2vec-652d0c2060fa)\n",
        "\n",
        "[**Jay Alammar:** The Illustrated Word2vec](http://jalammar.github.io/illustrated-word2vec/)"
      ]
    },
    {
      "cell_type": "code",
      "metadata": {
        "id": "_UgqAGnGxpnv",
        "outputId": "9df91688-c81b-480a-8ed9-3990d8a11351",
        "colab": {
          "base_uri": "https://localhost:8080/"
        }
      },
      "source": [
        "pip install beautifulsoup4\n"
      ],
      "execution_count": 48,
      "outputs": [
        {
          "output_type": "stream",
          "text": [
            "Requirement already satisfied: beautifulsoup4 in /usr/local/lib/python3.6/dist-packages (4.6.3)\n"
          ],
          "name": "stdout"
        }
      ]
    },
    {
      "cell_type": "code",
      "metadata": {
        "id": "J9NwTMTSyJIq",
        "outputId": "27d0fb41-152c-4a0b-df37-c6a64ca67f9a",
        "colab": {
          "base_uri": "https://localhost:8080/"
        }
      },
      "source": [
        "pip install lxml"
      ],
      "execution_count": 49,
      "outputs": [
        {
          "output_type": "stream",
          "text": [
            "Requirement already satisfied: lxml in /usr/local/lib/python3.6/dist-packages (4.2.6)\n"
          ],
          "name": "stdout"
        }
      ]
    },
    {
      "cell_type": "code",
      "metadata": {
        "id": "3G8BJrq3yJm1"
      },
      "source": [
        "import bs4 as bs \n",
        "import urllib.request\n",
        "import re\n",
        "scrapped_data = urllib.request.urlopen(\"https://en.wikipedia.org/wiki/Machine_learning\")"
      ],
      "execution_count": 62,
      "outputs": []
    },
    {
      "cell_type": "code",
      "metadata": {
        "id": "Um6nR4dbyJp6"
      },
      "source": [
        "article = scrapped_data.read()"
      ],
      "execution_count": 63,
      "outputs": []
    },
    {
      "cell_type": "code",
      "metadata": {
        "id": "kt_puGX-zRl4"
      },
      "source": [
        "parsed_article = bs.BeautifulSoup(article,'lxml') #'lxml' is to read HTML and XML data in python"
      ],
      "execution_count": 64,
      "outputs": []
    },
    {
      "cell_type": "code",
      "metadata": {
        "id": "U_jSwxq3zRjG"
      },
      "source": [
        "paragraphs = parsed_article.find_all('p') #p tag is for paragraph in html"
      ],
      "execution_count": 65,
      "outputs": []
    },
    {
      "cell_type": "code",
      "metadata": {
        "id": "52whEyMsznlS"
      },
      "source": [
        "article_text = \"\"\n"
      ],
      "execution_count": 67,
      "outputs": []
    },
    {
      "cell_type": "code",
      "metadata": {
        "id": "fJv3v9MMznpq"
      },
      "source": [
        "for p in paragraphs:\n",
        "  article_text += p.text"
      ],
      "execution_count": 68,
      "outputs": []
    },
    {
      "cell_type": "code",
      "metadata": {
        "id": "Q9ikG-Xk1NXh",
        "outputId": "3ea42805-7406-474d-f168-7dc5630b9947",
        "colab": {
          "base_uri": "https://localhost:8080/",
          "height": 137
        }
      },
      "source": [
        "article_text #this is our corpus"
      ],
      "execution_count": 69,
      "outputs": [
        {
          "output_type": "execute_result",
          "data": {
            "application/vnd.google.colaboratory.intrinsic+json": {
              "type": "string"
            },
            "text/plain": [
              "'Machine learning (ML) is the study of computer algorithms that improve automatically through experience.[1] It is seen as a subset of artificial intelligence. Machine learning algorithms build a model based on sample data, known as \"training data\", in order to make predictions or decisions without being explicitly programmed to do so.[2] Machine learning algorithms are used in a wide variety of applications, such as email filtering and computer vision, where it is difficult or infeasible to develop conventional algorithms to perform the needed tasks.\\nA subset of machine learning is closely related to computational statistics, which focuses on making predictions using computers; but not all machine learning is statistical learning. The study of mathematical optimization delivers methods, theory and application domains to the field of machine learning. Data mining is a related field of study, focusing on exploratory data analysis through unsupervised learning.[4][5] In its application across business problems, machine learning is also referred to as predictive analytics.\\nMachine learning involves computers discovering how they can perform tasks without being explicitly programmed to do so. It involves computers learning from data provided so that they carry out certain tasks. For simple tasks assigned to computers, it is possible to program algorithms telling the machine how to execute all steps required to solve the problem at hand; on the computer\\'s part, no learning is needed. For more advanced tasks, it can be challenging for a human to manually create the needed algorithms. In practice, it can turn out to be more effective to help the machine develop its own algorithm, rather than having human programmers specify every needed step.[6]\\nThe discipline of machine learning employs various approaches to teach computers to accomplish tasks where no fully satisfactory algorithm is available. In cases where vast numbers of potential answers exist, one approach is to label some of the correct answers as valid. This can then be used as training data for the computer to improve the algorithm(s) it uses to determine correct answers. For example, to train a system for the task of digital character recognition, the MNIST dataset of handwritten digits has often been used.[6]\\n\\nMachine learning approaches are traditionally divided into three broad categories, depending on the nature of the \"signal\" or \"feedback\" available to the learning system:\\nOther approaches have been developed which don\\'t fit neatly into this three-fold categorisation, and sometimes more than one is used by the same machine learning system. For example topic modeling, dimensionality reduction or meta learning.[7]\\nAs of 2020, deep learning has become the dominant approach for much ongoing work in the field of machine learning.[6]\\nThe term machine learning was coined in 1959 by Arthur Samuel, an American IBMer and pioneer in the field of computer gaming and artificial intelligence.[8][9] A representative book of the machine learning research during the 1960s was the Nilsson\\'s book on Learning Machines, dealing mostly with machine learning for pattern classification.[10] Interest related to pattern recognition continued into the 1970s, as described by Duda and Hart in 1973.[11] In 1981 a report was given on using teaching strategies so that a neural network learns to recognize 40 characters (26 letters, 10 digits, and 4 special symbols) from a computer terminal.[12]\\nTom M. Mitchell provided a widely quoted, more formal definition of the algorithms studied in the machine learning field: \"A computer program is said to learn from experience E with respect to some class of tasks T and performance measure P if its performance at tasks in T, as measured by P,  improves with experience E.\"[13] This definition of the tasks in which machine learning is concerned offers a fundamentally operational definition rather than defining the field in cognitive terms. This follows Alan Turing\\'s proposal in his paper \"Computing Machinery and Intelligence\", in which the question \"Can machines think?\" is replaced with the question \"Can machines do what we (as thinking entities) can do?\".[14]\\nAs a scientific endeavor, machine learning grew out of the quest for artificial intelligence. In the early days of AI as an academic discipline, some researchers were interested in having machines learn from data. They attempted to approach the problem with various symbolic methods, as well as what was then termed \"neural networks\"; these were mostly perceptrons and other models that were later found to be reinventions of the generalized linear models of statistics.[17] Probabilistic reasoning was also employed, especially in automated medical diagnosis.[18]:488\\nHowever, an increasing emphasis on the logical, knowledge-based approach caused a rift between AI and machine learning. Probabilistic systems were plagued by theoretical and practical problems of data acquisition and representation.[18]:488 By 1980, expert systems had come to dominate AI, and statistics was out of favor.[19] Work on symbolic/knowledge-based learning did continue within AI, leading to inductive logic programming, but the more statistical line of research was now outside the field of AI proper, in pattern recognition and information retrieval.[18]:708–710; 755 Neural networks research had been abandoned by AI and computer science around the same time. This line, too, was continued outside the AI/CS field, as \"connectionism\", by researchers from other disciplines including Hopfield, Rumelhart and Hinton. Their main success came in the mid-1980s with the reinvention of backpropagation.[18]:25\\nMachine learning (ML), reorganized as a separate field, started to flourish in the 1990s. The field changed its goal from achieving artificial intelligence to tackling solvable problems of a practical nature. It shifted focus away from the symbolic approaches it had inherited from AI, and toward methods and models borrowed from statistics and probability theory.[19]\\nAs of 2020, many sources continue to assert that machine learning remains a subfield of AI.[20][21][22] The main disagreement is whether all of ML is part of AI, as this would mean that anyone using ML could claim they are using AI. Others have the view that not all of ML is part of AI[23][24][25] where only an \\'intelligent\\' subset of ML is part of AI.[26]\\nThe question to what is the difference between ML and AI is answered by Judea Pearl in The Book of Why.[27] Accordingly ML learns and predicts based on passive observations, whereas AI implies an agent  interacting with the environment to learn and take actions that maximize its chance of successfully achieving its goals.[30]\\nMachine learning and data mining often employ the same methods and overlap significantly, but while machine learning focuses on prediction, based on known properties learned from the training data, data mining focuses on the discovery of (previously) unknown properties in the data (this is the analysis step of knowledge discovery in databases). Data mining uses many machine learning methods, but with different goals; on the other hand, machine learning also employs data mining methods as \"unsupervised learning\" or as a preprocessing step to improve learner accuracy. Much of the confusion between these two research communities (which do often have separate conferences and separate journals, ECML PKDD being a major exception) comes from the basic assumptions they work with: in machine learning, performance is usually evaluated with respect to the ability to reproduce known knowledge, while in knowledge discovery and data mining (KDD) the key task is the discovery of previously unknown knowledge. Evaluated with respect to known knowledge, an uninformed (unsupervised) method will easily be outperformed by other supervised methods, while in a typical KDD task, supervised methods cannot be used due to the unavailability of training data.\\nMachine learning also has intimate ties to optimization: many learning problems are formulated as minimization of some loss function on a training set of examples. Loss functions express the discrepancy between the predictions of the model being trained and the actual problem instances (for example, in classification, one wants to assign a label to instances, and models are trained to correctly predict the pre-assigned labels of a set of examples). The difference between the two fields arises from the goal of generalization: while optimization algorithms can minimize the loss on a training set, machine learning is concerned with minimizing the loss on unseen samples.[31]\\nMachine learning and statistics are closely related fields in terms of methods, but distinct in their principal goal: statistics draws population inferences from a sample, while machine learning finds generalizable predictive patterns.[32] According to Michael I. Jordan, the ideas of machine learning, from methodological principles to theoretical tools, have had a long pre-history in statistics.[33] He also suggested the term data science as a placeholder to call the overall field.[33]\\nLeo Breiman distinguished two statistical modeling paradigms: data model and algorithmic model,[34] wherein \"algorithmic model\" means more or less the machine learning algorithms like Random forest.\\nSome statisticians have adopted methods from machine learning, leading to a combined field that they call statistical learning.[35]\\nA core objective of a learner is to generalize from its experience.[3][36] Generalization in this context is the ability of a learning machine to perform accurately on new, unseen examples/tasks after having experienced a learning data set. The training examples come from some generally unknown probability distribution (considered representative of the space of occurrences) and the learner has to build a general model about this space that enables it to produce sufficiently accurate predictions in new cases.\\nThe computational analysis of machine learning algorithms and their performance is a branch of theoretical computer science known as computational learning theory. Because training sets are finite and the future is uncertain, learning theory usually does not yield guarantees of the performance of algorithms. Instead, probabilistic bounds on the performance are quite common. The bias–variance decomposition is one way to quantify generalization error.\\nFor the best performance in the context of generalization, the complexity of the hypothesis should match the complexity of the function underlying the data. If the hypothesis is less complex than the function, then the model has under fitted the data. If the complexity of the model is increased in response, then the training error decreases. But if the hypothesis is too complex, then the model is subject to overfitting and generalization will be poorer.[37]\\nIn addition to performance bounds, learning theorists study the time complexity and feasibility of learning. In computational learning theory, a computation is considered feasible if it can be done in polynomial time. There are two kinds of time complexity results. Positive results show that a certain class of functions can be learned in polynomial time. Negative results show that certain classes cannot be learned in polynomial time.\\nThe types of machine learning algorithms differ in their approach, the type of data they input and output, and the type of task or problem that they are intended to solve.\\nSupervised learning algorithms build a mathematical model of a set of data that contains both the inputs and the desired outputs.[38] The data is known as training data, and consists of a set of training examples. Each training example has one or more inputs and the desired output, also known as a supervisory signal.  In the mathematical model, each training example is represented by an array or vector, sometimes called a feature vector, and the training data is represented by a matrix. Through iterative optimization of an objective function, supervised learning algorithms learn a function that can be used to predict the output associated with new inputs.[39] An optimal function will allow the algorithm to correctly determine the output for inputs that were not a part of the training data. An algorithm that improves the accuracy of its outputs or predictions over time is said to have learned to perform that task.[13]\\nTypes of supervised learning algorithms include active learning, classification and regression.[40] Classification algorithms are used when the outputs are restricted to a limited set of values, and regression algorithms are used when the outputs may have any numerical value within a range. As an example, for a classification algorithm that filters emails, the input would be an incoming email, and the output would be the name of the folder in which to file the email. \\nSimilarity learning is an area of supervised machine learning closely related to regression and classification, but the goal is to learn from examples using a similarity function that measures how similar or related two objects are. It has applications in ranking, recommendation systems, visual identity tracking, face verification, and speaker verification.\\nUnsupervised learning algorithms take a set of data that contains only inputs, and find structure in the data, like grouping or clustering of data points. The algorithms, therefore, learn from test data that has not been labeled, classified or categorized. Instead of responding to feedback, unsupervised learning algorithms identify commonalities in the data and react based on the presence or absence of such commonalities in each new piece of data. A central application of unsupervised learning is in the field of density estimation in statistics, such as finding the probability density function.[41] Though unsupervised learning encompasses other domains involving summarizing and explaining data features.\\nCluster analysis is the assignment of a set of observations into subsets (called clusters) so that observations within the same cluster are similar according to one or more predesignated criteria, while observations drawn from different clusters are dissimilar. Different clustering techniques make different assumptions on the structure of the data, often defined by some similarity metric and evaluated, for example, by internal compactness, or the similarity between members of the same cluster, and separation, the difference between clusters. Other methods are based on estimated density and graph connectivity.\\nSemi-supervised learning falls between unsupervised learning (without any labeled training data) and supervised learning (with completely labeled training data). Some of the training examples are missing training labels,  yet many machine-learning researchers have found that unlabeled data, when used in conjunction with a small amount of labeled data, can produce a considerable improvement in learning accuracy.\\nIn weakly supervised learning, the training labels are noisy, limited, or imprecise; however, these labels are often cheaper to obtain, resulting in larger effective training sets.[42]\\nReinforcement learning is an area of machine learning concerned with how software agents ought to take actions in an environment so as to maximize some notion of cumulative reward. Due to its generality, the field is studied in many other disciplines, such as game theory, control theory, operations research, information theory, simulation-based optimization, multi-agent systems, swarm intelligence, statistics and genetic algorithms. In machine learning, the environment is typically represented as a Markov decision process (MDP). Many reinforcement learning algorithms use dynamic programming techniques.[43] Reinforcement learning algorithms do not assume knowledge of an exact mathematical model of the MDP, and are used when exact models are infeasible. Reinforcement learning algorithms are used in autonomous vehicles or in learning to play a game against a human opponent.\\nSelf-learning as a machine learning paradigm was introduced in 1982 along with a neural network capable of self-learning named crossbar adaptive array (CAA).[44] It is a learning with no external rewards and no external teacher advice. The CAA self-learning algorithm computes, in a crossbar fashion, both decisions about actions and emotions (feelings) about consequence situations. The system is driven by the interaction between cognition and emotion.[45]\\nThe self-learning algorithm updates a memory matrix W =||w(a,s)|| such that in each iteration executes the following machine learning routine: \\nIt is a system with only one input, situation s, and only one output, action (or behavior) a. There is neither a separate reinforcement input nor an advice input from the environment. The backpropagated value (secondary reinforcement) is the emotion toward the consequence situation. The CAA exists in two environments, one is the behavioral environment where it behaves, and the other is the genetic environment, wherefrom it initially and only once receives initial emotions about situations to be encountered in the behavioral environment. After receiving the genome (species) vector from the genetic environment, the CAA learns a goal-seeking behavior, in an environment that contains both desirable and undesirable situations.[46]\\nSeveral learning algorithms aim at discovering better representations of the inputs provided during training.[47] Classic examples include principal components analysis and cluster analysis. Feature learning algorithms, also called representation learning algorithms, often attempt to preserve the information in their input but also transform it in a way that makes it useful, often as a pre-processing step before performing classification or predictions. This technique allows reconstruction of the inputs coming from the unknown data-generating distribution, while not being necessarily faithful to configurations that are implausible under that distribution. This replaces manual feature engineering, and allows a machine to both learn the features and use them to perform a specific task.\\nFeature learning can be either supervised or unsupervised. In supervised feature learning, features are learned using labeled input data. Examples include artificial neural networks, multilayer perceptrons, and supervised dictionary learning. In unsupervised feature learning, features are learned with unlabeled input data.  Examples include dictionary learning, independent component analysis, autoencoders, matrix factorization[48] and various forms of clustering.[49][50][51]\\nManifold learning algorithms attempt to do so under the constraint that the learned representation is low-dimensional. Sparse coding algorithms attempt to do so under the constraint that the learned representation is sparse, meaning that the mathematical model has many zeros. Multilinear subspace learning algorithms aim to learn low-dimensional representations directly from tensor representations for multidimensional data, without reshaping them into higher-dimensional vectors.[52] Deep learning algorithms discover multiple levels of representation, or a hierarchy of features, with higher-level, more abstract features defined in terms of (or generating) lower-level features. It has been argued that an intelligent machine is one that learns a representation that disentangles the underlying factors of variation that explain the observed data.[53]\\nFeature learning is motivated by the fact that machine learning tasks such as classification often require input that is mathematically and computationally convenient to process. However, real-world data such as images, video, and sensory data has not yielded to attempts to algorithmically define specific features. An alternative is to discover such features or representations thorough examination, without relying on explicit algorithms.\\nSparse dictionary learning is a feature learning method where a training example is represented as a linear combination of basis functions, and is assumed to be a sparse matrix. The method is strongly NP-hard and difficult to solve approximately.[54] A popular heuristic method for sparse dictionary learning is the K-SVD algorithm. Sparse dictionary learning has been applied in several contexts. In classification, the problem is to determine the class to which a previously unseen training example belongs. For a dictionary where each class has already been built, a new training example is associated with the class that is best sparsely represented by the corresponding dictionary. Sparse dictionary learning has also been applied in image de-noising. The key idea is that a clean image patch can be sparsely represented by an image dictionary, but the noise cannot.[55]\\nIn data mining, anomaly detection, also known as outlier detection, is the identification of rare items, events or observations which raise suspicions by differing significantly from the majority of the data.[56] Typically, the anomalous items represent an issue such as bank fraud, a structural defect, medical problems or errors in a text. Anomalies are referred to as outliers, novelties, noise, deviations and exceptions.[57]\\nIn particular, in the context of abuse and network intrusion detection, the interesting objects are often not rare objects, but unexpected bursts of inactivity. This pattern does not adhere to the common statistical definition of an outlier as a rare object, and many outlier detection methods (in particular, unsupervised algorithms) will fail on such data unless it has been aggregated appropriately. Instead, a cluster analysis algorithm may be able to detect the micro-clusters formed by these patterns.[58]\\nThree broad categories of anomaly detection techniques exist.[59] Unsupervised anomaly detection techniques detect anomalies in an unlabeled test data set under the assumption that the majority of the instances in the data set are normal, by looking for instances that seem to fit least to the remainder of the data set. Supervised anomaly detection techniques require a data set that has been labeled as \"normal\" and \"abnormal\" and involves training a classifier (the key difference to many other statistical classification problems is the inherently unbalanced nature of outlier detection). Semi-supervised anomaly detection techniques construct a model representing normal behavior from a given normal training data set and then test the likelihood of a test instance to be generated by the model.\\nIn developmental robotics, robot learning algorithms generate their own sequences of learning experiences, also known as a curriculum, to cumulatively acquire new skills through self-guided exploration and social interaction with humans. These robots use guidance mechanisms such as active learning, maturation, motor synergies and imitation.\\nAssociation rule learning is a rule-based machine learning method for discovering relationships between variables in large databases. It is intended to identify strong rules discovered in databases using some measure of \"interestingness\".[60]\\nRule-based machine learning is a general term for any machine learning method that identifies, learns, or evolves \"rules\" to store, manipulate or apply knowledge. The defining characteristic of a rule-based machine learning algorithm is the identification and utilization of a set of relational rules that collectively represent the knowledge captured by the system. This is in contrast to other machine learning algorithms that commonly identify a singular model that can be universally applied to any instance in order to make a prediction.[61] Rule-based machine learning approaches include learning classifier systems, association rule learning, and artificial immune systems.\\nBased on the concept of strong rules, Rakesh Agrawal, Tomasz Imieliński and Arun Swami introduced association rules for discovering regularities between products in large-scale transaction data recorded by point-of-sale (POS) systems in supermarkets.[62] For example, the rule \\n\\n\\n\\n{\\n\\no\\nn\\ni\\no\\nn\\ns\\n,\\np\\no\\nt\\na\\nt\\no\\ne\\ns\\n\\n}\\n⇒\\n{\\n\\nb\\nu\\nr\\ng\\ne\\nr\\n\\n}\\n\\n\\n{\\\\displaystyle \\\\{\\\\mathrm {onions,potatoes} \\\\}\\\\Rightarrow \\\\{\\\\mathrm {burger} \\\\}}\\n\\n found in the sales data of a supermarket would indicate that if a customer buys onions and potatoes together, they are likely to also buy hamburger meat. Such information can be used as the basis for decisions about marketing activities such as promotional pricing or product placements. In addition to market basket analysis, association rules are employed today in application areas including Web usage mining, intrusion detection, continuous production, and bioinformatics. In contrast with sequence mining, association rule learning typically does not consider the order of items either within a transaction or across transactions.\\nLearning classifier systems (LCS) are a family of rule-based machine learning algorithms that combine a discovery component, typically a genetic algorithm, with a learning component, performing either supervised learning, reinforcement learning, or unsupervised learning. They seek to identify a set of context-dependent rules that collectively store and apply knowledge in a piecewise manner in order to make predictions.[63]\\nInductive logic programming (ILP) is an approach to rule-learning using logic programming as a uniform representation for input examples, background knowledge, and hypotheses. Given an encoding of the known background knowledge and a set of examples represented as a logical database of facts, an ILP system will derive a hypothesized logic program that entails all positive and no negative examples. Inductive programming is a related field that considers any kind of programming language for representing hypotheses (and not only logic programming), such as functional programs.\\nInductive logic programming is particularly useful in bioinformatics and natural language processing. Gordon Plotkin and Ehud Shapiro laid the initial theoretical foundation for inductive machine learning in a logical setting.[64][65][66] Shapiro built their first implementation (Model Inference System) in 1981: a Prolog program that inductively inferred logic programs from positive and negative examples.[67] The term inductive here refers to philosophical induction, suggesting a theory to explain observed facts, rather than mathematical induction, proving a property for all members of a well-ordered set.\\nPerforming machine learning involves creating a model, which is trained on some training data and then can process additional data to make predictions. Various types of models have been used and researched for machine learning systems.\\nArtificial neural networks (ANNs), or connectionist systems, are computing systems vaguely inspired by the biological neural networks that constitute animal brains. Such systems \"learn\" to perform tasks by considering examples, generally without being programmed with any task-specific rules.\\nAn ANN is a model based on a collection of connected units or nodes called \"artificial neurons\", which loosely model the neurons in a biological brain. Each connection, like the synapses in a biological brain, can transmit information, a \"signal\", from one artificial neuron to another. An artificial neuron that receives a signal can process it and then signal additional artificial neurons connected to it. In common ANN implementations, the signal at a connection between artificial neurons is a real number, and the output of each artificial neuron is computed by some non-linear function of the sum of its inputs. The connections between artificial neurons are called \"edges\". Artificial neurons and edges typically have a weight that adjusts as learning proceeds. The weight increases or decreases the strength of the signal at a connection. Artificial neurons may have a threshold such that the signal is only sent if the aggregate signal crosses that threshold. Typically, artificial neurons are aggregated into layers. Different layers may perform different kinds of transformations on their inputs. Signals travel from the first layer (the input layer) to the last layer (the output layer), possibly after traversing the layers multiple times.\\nThe original goal of the ANN approach was to solve problems in the same way that a human brain would. However, over time, attention moved to performing specific tasks, leading to deviations from biology. Artificial neural networks have been used on a variety of tasks, including computer vision, speech recognition, machine translation, social network filtering, playing board and video games and medical diagnosis.\\nDeep learning consists of multiple hidden layers in an artificial neural network. This approach tries to model the way the human brain processes light and sound into vision and hearing. Some successful applications of deep learning are computer vision and speech recognition.[68]\\nDecision tree learning uses a decision tree as a predictive model to go from observations about an item (represented in the branches) to conclusions about the item\\'s target value (represented in the leaves). It is one of the predictive modeling approaches used in statistics, data mining, and machine learning. Tree models where the target variable can take a discrete set of values are called classification trees; in these tree structures, leaves represent class labels and branches represent conjunctions of features that lead to those class labels. Decision trees where the target variable can take continuous values (typically real numbers) are called regression trees. In decision analysis, a decision tree can be used to visually and explicitly represent decisions and decision making. In data mining, a decision tree describes data, but the resulting classification tree can be an input for decision making.\\nSupport vector machines (SVMs), also known as support vector networks, are a set of related supervised learning methods used for classification and regression. Given a set of training examples, each marked as belonging to one of two categories, an SVM training algorithm builds a model that predicts whether a new example falls into one category or the other.[69]  An SVM training algorithm is a non-probabilistic, binary, linear classifier, although methods such as Platt scaling exist to use SVM in a probabilistic classification setting. In addition to performing linear classification, SVMs can efficiently perform a non-linear classification using what is called the kernel trick, implicitly mapping their inputs into high-dimensional feature spaces.\\nRegression analysis encompasses a large variety of statistical methods to estimate the relationship between input variables and their associated features. Its most common form is linear regression, where a single line is drawn to best fit the given data according to a mathematical criterion such as ordinary least squares. The latter is often extended by regularization (mathematics) methods to mitigate overfitting and bias, as in ridge regression. When dealing with non-linear problems, go-to models include polynomial regression (for example, used for trendline fitting in Microsoft Excel[70]), logistic regression (often used in statistical classification) or even kernel regression, which introduces non-linearity by taking advantage of the kernel trick to implicitly map input variables to higher-dimensional space. \\nA Bayesian network, belief network, or directed acyclic graphical model is a probabilistic graphical model that represents a set of random variables and their conditional independence with a directed acyclic graph (DAG). For example, a Bayesian network could represent the probabilistic relationships between diseases and symptoms. Given symptoms, the network can be used to compute the probabilities of the presence of various diseases. Efficient algorithms exist that perform inference and learning. Bayesian networks that model sequences of variables, like speech signals or protein sequences, are called dynamic Bayesian networks. Generalizations of Bayesian networks that can represent and solve decision problems under uncertainty are called influence diagrams.\\nA genetic algorithm (GA) is a search algorithm and heuristic technique that mimics the process of natural selection, using methods such as mutation and crossover to generate new genotypes in the hope of finding good solutions to a given problem. In machine learning, genetic algorithms were used in the 1980s and 1990s.[71][72] Conversely, machine learning techniques have been used to improve the performance of genetic and evolutionary algorithms.[73]\\nUsually, machine learning models require a lot of data in order for them to perform well. Usually, when training a machine learning model, one needs to collect a large, representative sample of data from a training set. Data from the training set can be as varied as a corpus of text, a collection of images, and data collected from individual users of a service. Overfitting is something to watch out for when training a machine learning model.\\nFederated learning is an adapted form of distributed artificial intelligence to training machine learning models that decentralizes the training process, allowing for users\\' privacy to be maintained by not needing to send their data to a centralized server. This also increases efficiency by decentralizing the training process to many devices. For example, Gboard uses federated machine learning to train search query prediction models on users\\' mobile phones without having to send individual searches back to Google.[74]\\nThere are many applications for machine learning, including:\\nIn 2006, the media-services provider Netflix held the first \"Netflix Prize\" competition to find a program to better predict user preferences and improve the accuracy of its existing Cinematch movie recommendation algorithm by at least 10%.  A joint team made up of researchers from AT&T Labs-Research in collaboration with the teams Big Chaos and Pragmatic Theory built an ensemble model to win the Grand Prize in 2009 for $1\\xa0million.[76] Shortly after the prize was awarded, Netflix realized that viewers\\' ratings were not the best indicators of their viewing patterns (\"everything is a recommendation\") and they changed their recommendation engine accordingly.[77] In 2010 The Wall Street Journal wrote about the firm Rebellion Research and their use of machine learning to predict the financial crisis.[78] In 2012, co-founder of Sun Microsystems, Vinod Khosla, predicted that 80% of medical doctors\\' jobs would be lost in the next two decades to automated machine learning medical diagnostic software.[79] In 2014, it was reported that a machine learning algorithm had been applied in the field of art history to study fine art paintings and that it may have revealed previously unrecognized influences among artists.[80] In 2019 Springer Nature published the first research book created using machine learning.[81]\\nAlthough machine learning has been transformative in some fields, machine-learning programs often fail to deliver expected results.[82][83][84] Reasons for this are numerous: lack of (suitable) data, lack of access to the data, data bias, privacy problems, badly chosen tasks and algorithms, wrong tools and people, lack of resources, and evaluation problems.[85]\\nIn 2018, a self-driving car from Uber failed to detect a pedestrian, who was killed after a collision.[86] Attempts to use machine learning in healthcare with the IBM Watson system failed to deliver even after years of time and billions of dollars invested.[87][88]\\nMachine learning approaches in particular can suffer from different data biases. A machine learning system trained on current customers only may not be able to predict the needs of new customer groups that are not represented in the training data. When trained on man-made data, machine learning is likely to pick up the same constitutional and unconscious biases already present in society.[89] Language models learned from data have been shown to contain human-like biases.[90][91] Machine learning systems used for criminal risk assessment have been found to be biased against black people.[92][93] In 2015, Google photos would often tag black people as gorillas,[94] and in 2018 this still was not well resolved, but Google reportedly was still using the workaround to remove all gorillas from the training data, and thus was not able to recognize real gorillas at all.[95] Similar issues with recognizing non-white people have been found in many other systems.[96] In 2016, Microsoft tested a chatbot that learned from Twitter, and it quickly picked up racist and sexist language.[97] Because of such challenges, the effective use of machine learning may take longer to be adopted in other domains.[98] Concern for fairness in machine learning, that is, reducing bias in machine learning and propelling its use for human good is increasingly expressed by artificial intelligence scientists, including Fei-Fei Li, who reminds engineers that \"There’s nothing artificial about AI...It’s inspired by people, it’s created by people, and—most importantly—it impacts people. It is a powerful tool we are only just beginning to understand, and that is a profound responsibility.”[99]\\nClassification of machine learning models can be validated by accuracy estimation techniques like the holdout method, which splits the data in a training and test set (conventionally 2/3 training set and 1/3 test set designation) and evaluates the performance of the training model on the test set. In comparison, the K-fold-cross-validation method randomly partitions the data into K subsets and then K experiments are performed each respectively considering 1 subset for evaluation and the remaining K-1 subsets for training the model. In addition to the holdout and cross-validation methods, bootstrap, which samples n instances with replacement from the dataset, can be used to assess model accuracy.[100]\\nIn addition to overall accuracy, investigators frequently report sensitivity and specificity meaning True Positive Rate (TPR) and True Negative Rate (TNR) respectively. Similarly, investigators sometimes report the false positive rate (FPR) as well as the false negative rate (FNR). However, these rates are ratios that fail to reveal their numerators and denominators. The total operating characteristic (TOC) is an effective method to express a model\\'s diagnostic ability. TOC shows the numerators and denominators of the previously mentioned rates, thus TOC provides more information than the commonly used receiver operating characteristic (ROC) and ROC\\'s associated area under the curve (AUC).[101]\\nMachine learning poses a host of ethical questions. Systems which are trained on datasets collected with biases may exhibit these biases upon use (algorithmic bias), thus digitizing cultural prejudices.[102] For example, using job hiring data from a firm with racist hiring policies may lead to a machine learning system duplicating the bias by scoring job applicants against similarity to previous successful applicants.[103][104] Responsible collection of data and documentation of algorithmic rules used by a system thus is a critical part of machine learning.\\nBecause human languages contain biases, machines trained on language corpora will necessarily also learn these biases.[105][106]\\nOther forms of ethical challenges, not related to personal biases, are more seen in health care. There are concerns among health care professionals that these systems might not be designed in the public\\'s interest but as income-generating machines. This is especially true in the United States where there is a long-standing ethical dilemma of improving health care, but also increasing profits. For example, the algorithms could be designed to provide patients with unnecessary tests or medication in which the algorithm\\'s proprietary owners hold stakes. There is huge potential for machine learning in health care to provide professionals a great tool to diagnose, medicate, and even plan recovery paths for patients, but this will not happen until the personal biases mentioned previously, and these \"greed\" biases are addressed.[107]\\nSince the 2010s, advances in both machine learning algorithms and computer hardware have led to more efficient methods for training deep neural networks (a particular narrow subdomain of machine learning) that contain many layers of non-linear hidden units.[108] By 2019, graphic processing units (GPUs), often with AI-specific enhancements, had displaced CPUs as the dominant method of training large-scale commercial cloud AI.[109] OpenAI estimated the hardware compute used in the largest deep learning projects from AlexNet (2012) to AlphaZero (2017), and found a 300,000-fold increase in the amount of compute required, with a doubling-time trendline of 3.4 months.[110][111]\\nSoftware suites containing a variety of machine learning algorithms include the following:\\n'"
            ]
          },
          "metadata": {
            "tags": []
          },
          "execution_count": 69
        }
      ]
    },
    {
      "cell_type": "code",
      "metadata": {
        "id": "vkEQT4uP90Kn"
      },
      "source": [
        "article_text = article_text.lower()"
      ],
      "execution_count": 118,
      "outputs": []
    },
    {
      "cell_type": "code",
      "metadata": {
        "id": "SkzNMqlw96io"
      },
      "source": [
        "article_text = re.sub('[^a-zA-Z]',' ',article_text)\n",
        "article_text = re.sub(r'\\s+',' ',article_text)"
      ],
      "execution_count": 119,
      "outputs": []
    },
    {
      "cell_type": "code",
      "metadata": {
        "id": "gVkjq6It2jdl"
      },
      "source": [
        "article_sentences = sent_tokenize(article_text)\n",
        "\n"
      ],
      "execution_count": 120,
      "outputs": []
    },
    {
      "cell_type": "code",
      "metadata": {
        "id": "n7Oc8rRu-foJ",
        "outputId": "1127672a-02df-4ccc-946e-daba3f85e0cc",
        "colab": {
          "base_uri": "https://localhost:8080/"
        }
      },
      "source": [
        "article_sentences"
      ],
      "execution_count": 122,
      "outputs": [
        {
          "output_type": "execute_result",
          "data": {
            "text/plain": [
              "['machine learning ml is the study of computer algorithms that improve automatically through experience it is seen as a subset of artificial intelligence machine learning algorithms build a model based on sample data known as training data in order to make predictions or decisions without being explicitly programmed to do so machine learning algorithms are used in a wide variety of applications such as email filtering and computer vision where it is difficult or infeasible to develop conventional algorithms to perform the needed tasks a subset of machine learning is closely related to computational statistics which focuses on making predictions using computers but not all machine learning is statistical learning the study of mathematical optimization delivers methods theory and application domains to the field of machine learning data mining is a related field of study focusing on exploratory data analysis through unsupervised learning in its application across business problems machine learning is also referred to as predictive analytics machine learning involves computers discovering how they can perform tasks without being explicitly programmed to do so it involves computers learning from data provided so that they carry out certain tasks for simple tasks assigned to computers it is possible to program algorithms telling the machine how to execute all steps required to solve the problem at hand on the computer s part no learning is needed for more advanced tasks it can be challenging for a human to manually create the needed algorithms in practice it can turn out to be more effective to help the machine develop its own algorithm rather than having human programmers specify every needed step the discipline of machine learning employs various approaches to teach computers to accomplish tasks where no fully satisfactory algorithm is available in cases where vast numbers of potential answers exist one approach is to label some of the correct answers as valid this can then be used as training data for the computer to improve the algorithm s it uses to determine correct answers for example to train a system for the task of digital character recognition the mnist dataset of handwritten digits has often been used machine learning approaches are traditionally divided into three broad categories depending on the nature of the signal or feedback available to the learning system other approaches have been developed which don t fit neatly into this three fold categorisation and sometimes more than one is used by the same machine learning system for example topic modeling dimensionality reduction or meta learning as of deep learning has become the dominant approach for much ongoing work in the field of machine learning the term machine learning was coined in by arthur samuel an american ibmer and pioneer in the field of computer gaming and artificial intelligence a representative book of the machine learning research during the s was the nilsson s book on learning machines dealing mostly with machine learning for pattern classification interest related to pattern recognition continued into the s as described by duda and hart in in a report was given on using teaching strategies so that a neural network learns to recognize characters letters digits and special symbols from a computer terminal tom m mitchell provided a widely quoted more formal definition of the algorithms studied in the machine learning field a computer program is said to learn from experience e with respect to some class of tasks t and performance measure p if its performance at tasks in t as measured by p improves with experience e this definition of the tasks in which machine learning is concerned offers a fundamentally operational definition rather than defining the field in cognitive terms this follows alan turing s proposal in his paper computing machinery and intelligence in which the question can machines think is replaced with the question can machines do what we as thinking entities can do as a scientific endeavor machine learning grew out of the quest for artificial intelligence in the early days of ai as an academic discipline some researchers were interested in having machines learn from data they attempted to approach the problem with various symbolic methods as well as what was then termed neural networks these were mostly perceptrons and other models that were later found to be reinventions of the generalized linear models of statistics probabilistic reasoning was also employed especially in automated medical diagnosis however an increasing emphasis on the logical knowledge based approach caused a rift between ai and machine learning probabilistic systems were plagued by theoretical and practical problems of data acquisition and representation by expert systems had come to dominate ai and statistics was out of favor work on symbolic knowledge based learning did continue within ai leading to inductive logic programming but the more statistical line of research was now outside the field of ai proper in pattern recognition and information retrieval neural networks research had been abandoned by ai and computer science around the same time this line too was continued outside the ai cs field as connectionism by researchers from other disciplines including hopfield rumelhart and hinton their main success came in the mid s with the reinvention of backpropagation machine learning ml reorganized as a separate field started to flourish in the s the field changed its goal from achieving artificial intelligence to tackling solvable problems of a practical nature it shifted focus away from the symbolic approaches it had inherited from ai and toward methods and models borrowed from statistics and probability theory as of many sources continue to assert that machine learning remains a subfield of ai the main disagreement is whether all of ml is part of ai as this would mean that anyone using ml could claim they are using ai others have the view that not all of ml is part of ai where only an intelligent subset of ml is part of ai the question to what is the difference between ml and ai is answered by judea pearl in the book of why accordingly ml learns and predicts based on passive observations whereas ai implies an agent interacting with the environment to learn and take actions that maximize its chance of successfully achieving its goals machine learning and data mining often employ the same methods and overlap significantly but while machine learning focuses on prediction based on known properties learned from the training data data mining focuses on the discovery of previously unknown properties in the data this is the analysis step of knowledge discovery in databases data mining uses many machine learning methods but with different goals on the other hand machine learning also employs data mining methods as unsupervised learning or as a preprocessing step to improve learner accuracy much of the confusion between these two research communities which do often have separate conferences and separate journals ecml pkdd being a major exception comes from the basic assumptions they work with in machine learning performance is usually evaluated with respect to the ability to reproduce known knowledge while in knowledge discovery and data mining kdd the key task is the discovery of previously unknown knowledge evaluated with respect to known knowledge an uninformed unsupervised method will easily be outperformed by other supervised methods while in a typical kdd task supervised methods cannot be used due to the unavailability of training data machine learning also has intimate ties to optimization many learning problems are formulated as minimization of some loss function on a training set of examples loss functions express the discrepancy between the predictions of the model being trained and the actual problem instances for example in classification one wants to assign a label to instances and models are trained to correctly predict the pre assigned labels of a set of examples the difference between the two fields arises from the goal of generalization while optimization algorithms can minimize the loss on a training set machine learning is concerned with minimizing the loss on unseen samples machine learning and statistics are closely related fields in terms of methods but distinct in their principal goal statistics draws population inferences from a sample while machine learning finds generalizable predictive patterns according to michael i jordan the ideas of machine learning from methodological principles to theoretical tools have had a long pre history in statistics he also suggested the term data science as a placeholder to call the overall field leo breiman distinguished two statistical modeling paradigms data model and algorithmic model wherein algorithmic model means more or less the machine learning algorithms like random forest some statisticians have adopted methods from machine learning leading to a combined field that they call statistical learning a core objective of a learner is to generalize from its experience generalization in this context is the ability of a learning machine to perform accurately on new unseen examples tasks after having experienced a learning data set the training examples come from some generally unknown probability distribution considered representative of the space of occurrences and the learner has to build a general model about this space that enables it to produce sufficiently accurate predictions in new cases the computational analysis of machine learning algorithms and their performance is a branch of theoretical computer science known as computational learning theory because training sets are finite and the future is uncertain learning theory usually does not yield guarantees of the performance of algorithms instead probabilistic bounds on the performance are quite common the bias variance decomposition is one way to quantify generalization error for the best performance in the context of generalization the complexity of the hypothesis should match the complexity of the function underlying the data if the hypothesis is less complex than the function then the model has under fitted the data if the complexity of the model is increased in response then the training error decreases but if the hypothesis is too complex then the model is subject to overfitting and generalization will be poorer in addition to performance bounds learning theorists study the time complexity and feasibility of learning in computational learning theory a computation is considered feasible if it can be done in polynomial time there are two kinds of time complexity results positive results show that a certain class of functions can be learned in polynomial time negative results show that certain classes cannot be learned in polynomial time the types of machine learning algorithms differ in their approach the type of data they input and output and the type of task or problem that they are intended to solve supervised learning algorithms build a mathematical model of a set of data that contains both the inputs and the desired outputs the data is known as training data and consists of a set of training examples each training example has one or more inputs and the desired output also known as a supervisory signal in the mathematical model each training example is represented by an array or vector sometimes called a feature vector and the training data is represented by a matrix through iterative optimization of an objective function supervised learning algorithms learn a function that can be used to predict the output associated with new inputs an optimal function will allow the algorithm to correctly determine the output for inputs that were not a part of the training data an algorithm that improves the accuracy of its outputs or predictions over time is said to have learned to perform that task types of supervised learning algorithms include active learning classification and regression classification algorithms are used when the outputs are restricted to a limited set of values and regression algorithms are used when the outputs may have any numerical value within a range as an example for a classification algorithm that filters emails the input would be an incoming email and the output would be the name of the folder in which to file the email similarity learning is an area of supervised machine learning closely related to regression and classification but the goal is to learn from examples using a similarity function that measures how similar or related two objects are it has applications in ranking recommendation systems visual identity tracking face verification and speaker verification unsupervised learning algorithms take a set of data that contains only inputs and find structure in the data like grouping or clustering of data points the algorithms therefore learn from test data that has not been labeled classified or categorized instead of responding to feedback unsupervised learning algorithms identify commonalities in the data and react based on the presence or absence of such commonalities in each new piece of data a central application of unsupervised learning is in the field of density estimation in statistics such as finding the probability density function though unsupervised learning encompasses other domains involving summarizing and explaining data features cluster analysis is the assignment of a set of observations into subsets called clusters so that observations within the same cluster are similar according to one or more predesignated criteria while observations drawn from different clusters are dissimilar different clustering techniques make different assumptions on the structure of the data often defined by some similarity metric and evaluated for example by internal compactness or the similarity between members of the same cluster and separation the difference between clusters other methods are based on estimated density and graph connectivity semi supervised learning falls between unsupervised learning without any labeled training data and supervised learning with completely labeled training data some of the training examples are missing training labels yet many machine learning researchers have found that unlabeled data when used in conjunction with a small amount of labeled data can produce a considerable improvement in learning accuracy in weakly supervised learning the training labels are noisy limited or imprecise however these labels are often cheaper to obtain resulting in larger effective training sets reinforcement learning is an area of machine learning concerned with how software agents ought to take actions in an environment so as to maximize some notion of cumulative reward due to its generality the field is studied in many other disciplines such as game theory control theory operations research information theory simulation based optimization multi agent systems swarm intelligence statistics and genetic algorithms in machine learning the environment is typically represented as a markov decision process mdp many reinforcement learning algorithms use dynamic programming techniques reinforcement learning algorithms do not assume knowledge of an exact mathematical model of the mdp and are used when exact models are infeasible reinforcement learning algorithms are used in autonomous vehicles or in learning to play a game against a human opponent self learning as a machine learning paradigm was introduced in along with a neural network capable of self learning named crossbar adaptive array caa it is a learning with no external rewards and no external teacher advice the caa self learning algorithm computes in a crossbar fashion both decisions about actions and emotions feelings about consequence situations the system is driven by the interaction between cognition and emotion the self learning algorithm updates a memory matrix w w a s such that in each iteration executes the following machine learning routine it is a system with only one input situation s and only one output action or behavior a there is neither a separate reinforcement input nor an advice input from the environment the backpropagated value secondary reinforcement is the emotion toward the consequence situation the caa exists in two environments one is the behavioral environment where it behaves and the other is the genetic environment wherefrom it initially and only once receives initial emotions about situations to be encountered in the behavioral environment after receiving the genome species vector from the genetic environment the caa learns a goal seeking behavior in an environment that contains both desirable and undesirable situations several learning algorithms aim at discovering better representations of the inputs provided during training classic examples include principal components analysis and cluster analysis feature learning algorithms also called representation learning algorithms often attempt to preserve the information in their input but also transform it in a way that makes it useful often as a pre processing step before performing classification or predictions this technique allows reconstruction of the inputs coming from the unknown data generating distribution while not being necessarily faithful to configurations that are implausible under that distribution this replaces manual feature engineering and allows a machine to both learn the features and use them to perform a specific task feature learning can be either supervised or unsupervised in supervised feature learning features are learned using labeled input data examples include artificial neural networks multilayer perceptrons and supervised dictionary learning in unsupervised feature learning features are learned with unlabeled input data examples include dictionary learning independent component analysis autoencoders matrix factorization and various forms of clustering manifold learning algorithms attempt to do so under the constraint that the learned representation is low dimensional sparse coding algorithms attempt to do so under the constraint that the learned representation is sparse meaning that the mathematical model has many zeros multilinear subspace learning algorithms aim to learn low dimensional representations directly from tensor representations for multidimensional data without reshaping them into higher dimensional vectors deep learning algorithms discover multiple levels of representation or a hierarchy of features with higher level more abstract features defined in terms of or generating lower level features it has been argued that an intelligent machine is one that learns a representation that disentangles the underlying factors of variation that explain the observed data feature learning is motivated by the fact that machine learning tasks such as classification often require input that is mathematically and computationally convenient to process however real world data such as images video and sensory data has not yielded to attempts to algorithmically define specific features an alternative is to discover such features or representations thorough examination without relying on explicit algorithms sparse dictionary learning is a feature learning method where a training example is represented as a linear combination of basis functions and is assumed to be a sparse matrix the method is strongly np hard and difficult to solve approximately a popular heuristic method for sparse dictionary learning is the k svd algorithm sparse dictionary learning has been applied in several contexts in classification the problem is to determine the class to which a previously unseen training example belongs for a dictionary where each class has already been built a new training example is associated with the class that is best sparsely represented by the corresponding dictionary sparse dictionary learning has also been applied in image de noising the key idea is that a clean image patch can be sparsely represented by an image dictionary but the noise cannot in data mining anomaly detection also known as outlier detection is the identification of rare items events or observations which raise suspicions by differing significantly from the majority of the data typically the anomalous items represent an issue such as bank fraud a structural defect medical problems or errors in a text anomalies are referred to as outliers novelties noise deviations and exceptions in particular in the context of abuse and network intrusion detection the interesting objects are often not rare objects but unexpected bursts of inactivity this pattern does not adhere to the common statistical definition of an outlier as a rare object and many outlier detection methods in particular unsupervised algorithms will fail on such data unless it has been aggregated appropriately instead a cluster analysis algorithm may be able to detect the micro clusters formed by these patterns three broad categories of anomaly detection techniques exist unsupervised anomaly detection techniques detect anomalies in an unlabeled test data set under the assumption that the majority of the instances in the data set are normal by looking for instances that seem to fit least to the remainder of the data set supervised anomaly detection techniques require a data set that has been labeled as normal and abnormal and involves training a classifier the key difference to many other statistical classification problems is the inherently unbalanced nature of outlier detection semi supervised anomaly detection techniques construct a model representing normal behavior from a given normal training data set and then test the likelihood of a test instance to be generated by the model in developmental robotics robot learning algorithms generate their own sequences of learning experiences also known as a curriculum to cumulatively acquire new skills through self guided exploration and social interaction with humans these robots use guidance mechanisms such as active learning maturation motor synergies and imitation association rule learning is a rule based machine learning method for discovering relationships between variables in large databases it is intended to identify strong rules discovered in databases using some measure of interestingness rule based machine learning is a general term for any machine learning method that identifies learns or evolves rules to store manipulate or apply knowledge the defining characteristic of a rule based machine learning algorithm is the identification and utilization of a set of relational rules that collectively represent the knowledge captured by the system this is in contrast to other machine learning algorithms that commonly identify a singular model that can be universally applied to any instance in order to make a prediction rule based machine learning approaches include learning classifier systems association rule learning and artificial immune systems based on the concept of strong rules rakesh agrawal tomasz imieli ski and arun swami introduced association rules for discovering regularities between products in large scale transaction data recorded by point of sale pos systems in supermarkets for example the rule o n i o n s p o t a t o e s b u r g e r displaystyle mathrm onions potatoes rightarrow mathrm burger found in the sales data of a supermarket would indicate that if a customer buys onions and potatoes together they are likely to also buy hamburger meat such information can be used as the basis for decisions about marketing activities such as promotional pricing or product placements in addition to market basket analysis association rules are employed today in application areas including web usage mining intrusion detection continuous production and bioinformatics in contrast with sequence mining association rule learning typically does not consider the order of items either within a transaction or across transactions learning classifier systems lcs are a family of rule based machine learning algorithms that combine a discovery component typically a genetic algorithm with a learning component performing either supervised learning reinforcement learning or unsupervised learning they seek to identify a set of context dependent rules that collectively store and apply knowledge in a piecewise manner in order to make predictions inductive logic programming ilp is an approach to rule learning using logic programming as a uniform representation for input examples background knowledge and hypotheses given an encoding of the known background knowledge and a set of examples represented as a logical database of facts an ilp system will derive a hypothesized logic program that entails all positive and no negative examples inductive programming is a related field that considers any kind of programming language for representing hypotheses and not only logic programming such as functional programs inductive logic programming is particularly useful in bioinformatics and natural language processing gordon plotkin and ehud shapiro laid the initial theoretical foundation for inductive machine learning in a logical setting shapiro built their first implementation model inference system in a prolog program that inductively inferred logic programs from positive and negative examples the term inductive here refers to philosophical induction suggesting a theory to explain observed facts rather than mathematical induction proving a property for all members of a well ordered set performing machine learning involves creating a model which is trained on some training data and then can process additional data to make predictions various types of models have been used and researched for machine learning systems artificial neural networks anns or connectionist systems are computing systems vaguely inspired by the biological neural networks that constitute animal brains such systems learn to perform tasks by considering examples generally without being programmed with any task specific rules an ann is a model based on a collection of connected units or nodes called artificial neurons which loosely model the neurons in a biological brain each connection like the synapses in a biological brain can transmit information a signal from one artificial neuron to another an artificial neuron that receives a signal can process it and then signal additional artificial neurons connected to it in common ann implementations the signal at a connection between artificial neurons is a real number and the output of each artificial neuron is computed by some non linear function of the sum of its inputs the connections between artificial neurons are called edges artificial neurons and edges typically have a weight that adjusts as learning proceeds the weight increases or decreases the strength of the signal at a connection artificial neurons may have a threshold such that the signal is only sent if the aggregate signal crosses that threshold typically artificial neurons are aggregated into layers different layers may perform different kinds of transformations on their inputs signals travel from the first layer the input layer to the last layer the output layer possibly after traversing the layers multiple times the original goal of the ann approach was to solve problems in the same way that a human brain would however over time attention moved to performing specific tasks leading to deviations from biology artificial neural networks have been used on a variety of tasks including computer vision speech recognition machine translation social network filtering playing board and video games and medical diagnosis deep learning consists of multiple hidden layers in an artificial neural network this approach tries to model the way the human brain processes light and sound into vision and hearing some successful applications of deep learning are computer vision and speech recognition decision tree learning uses a decision tree as a predictive model to go from observations about an item represented in the branches to conclusions about the item s target value represented in the leaves it is one of the predictive modeling approaches used in statistics data mining and machine learning tree models where the target variable can take a discrete set of values are called classification trees in these tree structures leaves represent class labels and branches represent conjunctions of features that lead to those class labels decision trees where the target variable can take continuous values typically real numbers are called regression trees in decision analysis a decision tree can be used to visually and explicitly represent decisions and decision making in data mining a decision tree describes data but the resulting classification tree can be an input for decision making support vector machines svms also known as support vector networks are a set of related supervised learning methods used for classification and regression given a set of training examples each marked as belonging to one of two categories an svm training algorithm builds a model that predicts whether a new example falls into one category or the other an svm training algorithm is a non probabilistic binary linear classifier although methods such as platt scaling exist to use svm in a probabilistic classification setting in addition to performing linear classification svms can efficiently perform a non linear classification using what is called the kernel trick implicitly mapping their inputs into high dimensional feature spaces regression analysis encompasses a large variety of statistical methods to estimate the relationship between input variables and their associated features its most common form is linear regression where a single line is drawn to best fit the given data according to a mathematical criterion such as ordinary least squares the latter is often extended by regularization mathematics methods to mitigate overfitting and bias as in ridge regression when dealing with non linear problems go to models include polynomial regression for example used for trendline fitting in microsoft excel logistic regression often used in statistical classification or even kernel regression which introduces non linearity by taking advantage of the kernel trick to implicitly map input variables to higher dimensional space a bayesian network belief network or directed acyclic graphical model is a probabilistic graphical model that represents a set of random variables and their conditional independence with a directed acyclic graph dag for example a bayesian network could represent the probabilistic relationships between diseases and symptoms given symptoms the network can be used to compute the probabilities of the presence of various diseases efficient algorithms exist that perform inference and learning bayesian networks that model sequences of variables like speech signals or protein sequences are called dynamic bayesian networks generalizations of bayesian networks that can represent and solve decision problems under uncertainty are called influence diagrams a genetic algorithm ga is a search algorithm and heuristic technique that mimics the process of natural selection using methods such as mutation and crossover to generate new genotypes in the hope of finding good solutions to a given problem in machine learning genetic algorithms were used in the s and s conversely machine learning techniques have been used to improve the performance of genetic and evolutionary algorithms usually machine learning models require a lot of data in order for them to perform well usually when training a machine learning model one needs to collect a large representative sample of data from a training set data from the training set can be as varied as a corpus of text a collection of images and data collected from individual users of a service overfitting is something to watch out for when training a machine learning model federated learning is an adapted form of distributed artificial intelligence to training machine learning models that decentralizes the training process allowing for users privacy to be maintained by not needing to send their data to a centralized server this also increases efficiency by decentralizing the training process to many devices for example gboard uses federated machine learning to train search query prediction models on users mobile phones without having to send individual searches back to google there are many applications for machine learning including in the media services provider netflix held the first netflix prize competition to find a program to better predict user preferences and improve the accuracy of its existing cinematch movie recommendation algorithm by at least a joint team made up of researchers from at t labs research in collaboration with the teams big chaos and pragmatic theory built an ensemble model to win the grand prize in for million shortly after the prize was awarded netflix realized that viewers ratings were not the best indicators of their viewing patterns everything is a recommendation and they changed their recommendation engine accordingly in the wall street journal wrote about the firm rebellion research and their use of machine learning to predict the financial crisis in co founder of sun microsystems vinod khosla predicted that of medical doctors jobs would be lost in the next two decades to automated machine learning medical diagnostic software in it was reported that a machine learning algorithm had been applied in the field of art history to study fine art paintings and that it may have revealed previously unrecognized influences among artists in springer nature published the first research book created using machine learning although machine learning has been transformative in some fields machine learning programs often fail to deliver expected results reasons for this are numerous lack of suitable data lack of access to the data data bias privacy problems badly chosen tasks and algorithms wrong tools and people lack of resources and evaluation problems in a self driving car from uber failed to detect a pedestrian who was killed after a collision attempts to use machine learning in healthcare with the ibm watson system failed to deliver even after years of time and billions of dollars invested machine learning approaches in particular can suffer from different data biases a machine learning system trained on current customers only may not be able to predict the needs of new customer groups that are not represented in the training data when trained on man made data machine learning is likely to pick up the same constitutional and unconscious biases already present in society language models learned from data have been shown to contain human like biases machine learning systems used for criminal risk assessment have been found to be biased against black people in google photos would often tag black people as gorillas and in this still was not well resolved but google reportedly was still using the workaround to remove all gorillas from the training data and thus was not able to recognize real gorillas at all similar issues with recognizing non white people have been found in many other systems in microsoft tested a chatbot that learned from twitter and it quickly picked up racist and sexist language because of such challenges the effective use of machine learning may take longer to be adopted in other domains concern for fairness in machine learning that is reducing bias in machine learning and propelling its use for human good is increasingly expressed by artificial intelligence scientists including fei fei li who reminds engineers that there s nothing artificial about ai it s inspired by people it s created by people and most importantly it impacts people it is a powerful tool we are only just beginning to understand and that is a profound responsibility classification of machine learning models can be validated by accuracy estimation techniques like the holdout method which splits the data in a training and test set conventionally training set and test set designation and evaluates the performance of the training model on the test set in comparison the k fold cross validation method randomly partitions the data into k subsets and then k experiments are performed each respectively considering subset for evaluation and the remaining k subsets for training the model in addition to the holdout and cross validation methods bootstrap which samples n instances with replacement from the dataset can be used to assess model accuracy in addition to overall accuracy investigators frequently report sensitivity and specificity meaning true positive rate tpr and true negative rate tnr respectively similarly investigators sometimes report the false positive rate fpr as well as the false negative rate fnr however these rates are ratios that fail to reveal their numerators and denominators the total operating characteristic toc is an effective method to express a model s diagnostic ability toc shows the numerators and denominators of the previously mentioned rates thus toc provides more information than the commonly used receiver operating characteristic roc and roc s associated area under the curve auc machine learning poses a host of ethical questions systems which are trained on datasets collected with biases may exhibit these biases upon use algorithmic bias thus digitizing cultural prejudices for example using job hiring data from a firm with racist hiring policies may lead to a machine learning system duplicating the bias by scoring job applicants against similarity to previous successful applicants responsible collection of data and documentation of algorithmic rules used by a system thus is a critical part of machine learning because human languages contain biases machines trained on language corpora will necessarily also learn these biases other forms of ethical challenges not related to personal biases are more seen in health care there are concerns among health care professionals that these systems might not be designed in the public s interest but as income generating machines this is especially true in the united states where there is a long standing ethical dilemma of improving health care but also increasing profits for example the algorithms could be designed to provide patients with unnecessary tests or medication in which the algorithm s proprietary owners hold stakes there is huge potential for machine learning in health care to provide professionals a great tool to diagnose medicate and even plan recovery paths for patients but this will not happen until the personal biases mentioned previously and these greed biases are addressed since the s advances in both machine learning algorithms and computer hardware have led to more efficient methods for training deep neural networks a particular narrow subdomain of machine learning that contain many layers of non linear hidden units by graphic processing units gpus often with ai specific enhancements had displaced cpus as the dominant method of training large scale commercial cloud ai openai estimated the hardware compute used in the largest deep learning projects from alexnet to alphazero and found a fold increase in the amount of compute required with a doubling time trendline of months software suites containing a variety of machine learning algorithms include the following']"
            ]
          },
          "metadata": {
            "tags": []
          },
          "execution_count": 122
        }
      ]
    },
    {
      "cell_type": "code",
      "metadata": {
        "id": "EYvp536095mg"
      },
      "source": [
        "article_words = [word_tokenize(sentences) for sentences in article_sentences]"
      ],
      "execution_count": 123,
      "outputs": []
    },
    {
      "cell_type": "code",
      "metadata": {
        "id": "iQDb6Y-_225S"
      },
      "source": [
        "for i in range(len(article_words)):\n",
        "  article_words[i] = [w for w in article_words[i] if not w in stop_words]\n"
      ],
      "execution_count": 125,
      "outputs": []
    },
    {
      "cell_type": "code",
      "metadata": {
        "id": "m-EhMTjn23ES"
      },
      "source": [
        "from gensim.models import Word2Vec"
      ],
      "execution_count": 127,
      "outputs": []
    },
    {
      "cell_type": "code",
      "metadata": {
        "id": "0o_WGsMq229w"
      },
      "source": [
        "w2v = Word2Vec(article_words,min_count=2)"
      ],
      "execution_count": 133,
      "outputs": []
    },
    {
      "cell_type": "code",
      "metadata": {
        "id": "3lIp5Vlv1NcZ"
      },
      "source": [
        "vocab = w2v.wv.vocab"
      ],
      "execution_count": 134,
      "outputs": []
    },
    {
      "cell_type": "code",
      "metadata": {
        "id": "aIrXA4q71Nf2",
        "outputId": "db6170ab-91c0-4282-8b60-8dde1d2ae0d4",
        "colab": {
          "base_uri": "https://localhost:8080/"
        }
      },
      "source": [
        "len(vocab)"
      ],
      "execution_count": 137,
      "outputs": [
        {
          "output_type": "execute_result",
          "data": {
            "text/plain": [
              "588"
            ]
          },
          "metadata": {
            "tags": []
          },
          "execution_count": 137
        }
      ]
    },
    {
      "cell_type": "code",
      "metadata": {
        "id": "bKblQ2qa1Nl1",
        "outputId": "1afec3a2-1689-468f-e7ea-b2ab17f785ff",
        "colab": {
          "base_uri": "https://localhost:8080/"
        }
      },
      "source": [
        "print(w2v.wv['machine'])"
      ],
      "execution_count": 140,
      "outputs": [
        {
          "output_type": "stream",
          "text": [
            "[-7.6857419e-04 -5.4542592e-04 -6.1941100e-04  3.4336261e-03\n",
            " -6.4113406e-03  3.8384793e-03  1.3174195e-04 -6.5967054e-03\n",
            "  7.9688313e-04  1.8513913e-03  7.5065729e-04 -2.9785451e-03\n",
            " -5.9786304e-03 -1.3197592e-03 -5.1291485e-04 -1.6552845e-03\n",
            "  2.8507796e-03 -8.4973918e-04  2.5239408e-03 -1.2264057e-03\n",
            "  5.0643901e-03  2.1713667e-03  3.6508611e-03  3.2676540e-05\n",
            " -5.0912709e-03 -6.1647217e-03  6.8627005e-03  6.3586957e-03\n",
            "  2.8053203e-03 -8.5201924e-04 -4.1230535e-03 -2.7150903e-03\n",
            " -4.0710806e-03 -3.4160388e-03  4.0625054e-03  1.4321262e-03\n",
            " -3.4802589e-03 -5.1956805e-03  6.8957368e-03 -4.6542455e-03\n",
            " -9.5743529e-04 -4.2422051e-03  4.5677242e-03  4.1719968e-03\n",
            " -3.0714285e-03 -2.7328099e-03 -1.5076450e-03 -4.0402273e-03\n",
            "  3.7794407e-03  3.0251741e-03 -2.3053202e-03 -2.9817796e-03\n",
            "  1.1959607e-03  5.4193456e-03  3.1605938e-03  1.8604588e-03\n",
            "  3.5052474e-03  2.8446136e-04  4.7381599e-03  4.9587847e-03\n",
            "  1.5029125e-03 -2.2321425e-03 -1.6145490e-03 -5.6282375e-03\n",
            "  3.7516281e-04 -2.7344658e-03 -3.8552796e-04  8.8704843e-03\n",
            "  3.6032917e-03  1.4901727e-03 -8.0491146e-03  6.6178368e-04\n",
            " -2.7225637e-03  5.9422934e-03  7.1618943e-03 -1.7085721e-03\n",
            " -1.4303882e-03  4.0740501e-03 -3.2292136e-03  2.4772502e-04\n",
            " -5.8047902e-03  3.9647878e-03 -1.3182482e-03 -5.1723896e-03\n",
            "  1.5632277e-04 -2.1613156e-03 -1.4712973e-03  4.6705124e-03\n",
            "  2.7124998e-03 -6.5744884e-04 -7.7919136e-03 -5.7798661e-03\n",
            "  9.7637286e-04 -4.5975791e-03  4.9867854e-03  4.2543709e-03\n",
            "  3.3833818e-03 -4.5738295e-03 -7.6373233e-03  4.8595975e-04]\n"
          ],
          "name": "stdout"
        }
      ]
    },
    {
      "cell_type": "code",
      "metadata": {
        "id": "wnLMvqES1NkU",
        "outputId": "9f7b120d-8843-4472-8106-cb3090d8f988",
        "colab": {
          "base_uri": "https://localhost:8080/"
        }
      },
      "source": [
        "similar_words = w2v.wv.most_similar('machine')"
      ],
      "execution_count": 142,
      "outputs": [
        {
          "output_type": "stream",
          "text": [
            "/usr/local/lib/python3.6/dist-packages/gensim/matutils.py:737: FutureWarning: Conversion of the second argument of issubdtype from `int` to `np.signedinteger` is deprecated. In future, it will be treated as `np.int64 == np.dtype(int).type`.\n",
            "  if np.issubdtype(vec.dtype, np.int):\n"
          ],
          "name": "stderr"
        }
      ]
    },
    {
      "cell_type": "code",
      "metadata": {
        "id": "aLe1Vi71ICmA",
        "outputId": "ec6e551f-58c3-4fff-ad8e-564b6707302a",
        "colab": {
          "base_uri": "https://localhost:8080/"
        }
      },
      "source": [
        "for x in similar_words:\n",
        "  print(x)"
      ],
      "execution_count": 144,
      "outputs": [
        {
          "output_type": "stream",
          "text": [
            "('learning', 0.4765019714832306)\n",
            "('example', 0.47021251916885376)\n",
            "('often', 0.4256896376609802)\n",
            "('also', 0.41702383756637573)\n",
            "('may', 0.400728702545166)\n",
            "('performance', 0.3884531855583191)\n",
            "('algorithms', 0.3853161931037903)\n",
            "('non', 0.3792549669742584)\n",
            "('said', 0.37637993693351746)\n",
            "('regression', 0.37627890706062317)\n"
          ],
          "name": "stdout"
        }
      ]
    },
    {
      "cell_type": "code",
      "metadata": {
        "id": "6sqpM2U9xnYH"
      },
      "source": [
        ""
      ],
      "execution_count": null,
      "outputs": []
    },
    {
      "cell_type": "code",
      "metadata": {
        "id": "2-qb6qPFwgDR"
      },
      "source": [
        ""
      ],
      "execution_count": null,
      "outputs": []
    }
  ]
}